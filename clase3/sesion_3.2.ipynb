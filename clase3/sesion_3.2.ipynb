{
 "cells": [
  {
   "cell_type": "code",
   "execution_count": 1,
   "metadata": {},
   "outputs": [],
   "source": [
    "import pandas as pd\n",
    "import numpy as np\n",
    "import statsmodels.api as sm"
   ]
  },
  {
   "cell_type": "markdown",
   "metadata": {},
   "source": [
    "# Clasificación"
   ]
  },
  {
   "cell_type": "markdown",
   "metadata": {},
   "source": [
    "## Problema\n",
    "\n",
    "Dados los valores de las variables \"Sexo Estatura Peso Pie Brazo Espalda Craneo Rodilla\", definir si es un hombre o una mujer. Se utiliza una función diferenciadora, por ejemplo, la función logística $g(x)$:\n",
    "\n",
    "$$\n",
    "g(x) = \\frac{1}{1+e^{-x}}, \\quad 0 \\leq g(x) \\leq 1\n",
    "$$"
   ]
  },
  {
   "cell_type": "markdown",
   "metadata": {},
   "source": [
    "$$\n",
    "g(x) = \\frac{1}{1+e^{-(\\beta_0+x_1\\beta_1 + \\dots + x_n\\beta_n)}}\n",
    "$$"
   ]
  },
  {
   "cell_type": "code",
   "execution_count": 2,
   "metadata": {},
   "outputs": [
    {
     "data": {
      "text/html": [
       "<div>\n",
       "<style scoped>\n",
       "    .dataframe tbody tr th:only-of-type {\n",
       "        vertical-align: middle;\n",
       "    }\n",
       "\n",
       "    .dataframe tbody tr th {\n",
       "        vertical-align: top;\n",
       "    }\n",
       "\n",
       "    .dataframe thead th {\n",
       "        text-align: right;\n",
       "    }\n",
       "</style>\n",
       "<table border=\"1\" class=\"dataframe\">\n",
       "  <thead>\n",
       "    <tr style=\"text-align: right;\">\n",
       "      <th></th>\n",
       "      <th>Sexo</th>\n",
       "      <th>Estatura</th>\n",
       "      <th>Peso</th>\n",
       "      <th>Pie</th>\n",
       "      <th>Brazo</th>\n",
       "      <th>Espalda</th>\n",
       "      <th>Craneo</th>\n",
       "      <th>Rod_Tobi</th>\n",
       "    </tr>\n",
       "  </thead>\n",
       "  <tbody>\n",
       "    <tr>\n",
       "      <th>22</th>\n",
       "      <td>0</td>\n",
       "      <td>155.0</td>\n",
       "      <td>53.0</td>\n",
       "      <td>36.0</td>\n",
       "      <td>67.0</td>\n",
       "      <td>43.0</td>\n",
       "      <td>56.0</td>\n",
       "      <td>38.0</td>\n",
       "    </tr>\n",
       "    <tr>\n",
       "      <th>23</th>\n",
       "      <td>1</td>\n",
       "      <td>189.0</td>\n",
       "      <td>87.0</td>\n",
       "      <td>45.0</td>\n",
       "      <td>82.0</td>\n",
       "      <td>53.0</td>\n",
       "      <td>61.0</td>\n",
       "      <td>52.0</td>\n",
       "    </tr>\n",
       "    <tr>\n",
       "      <th>24</th>\n",
       "      <td>0</td>\n",
       "      <td>170.0</td>\n",
       "      <td>70.0</td>\n",
       "      <td>38.0</td>\n",
       "      <td>73.0</td>\n",
       "      <td>45.0</td>\n",
       "      <td>56.0</td>\n",
       "      <td>43.0</td>\n",
       "    </tr>\n",
       "    <tr>\n",
       "      <th>25</th>\n",
       "      <td>1</td>\n",
       "      <td>170.0</td>\n",
       "      <td>67.0</td>\n",
       "      <td>40.0</td>\n",
       "      <td>77.0</td>\n",
       "      <td>46.5</td>\n",
       "      <td>58.0</td>\n",
       "      <td>44.0</td>\n",
       "    </tr>\n",
       "    <tr>\n",
       "      <th>26</th>\n",
       "      <td>0</td>\n",
       "      <td>168.0</td>\n",
       "      <td>56.0</td>\n",
       "      <td>37.5</td>\n",
       "      <td>70.5</td>\n",
       "      <td>48.0</td>\n",
       "      <td>60.0</td>\n",
       "      <td>40.0</td>\n",
       "    </tr>\n",
       "  </tbody>\n",
       "</table>\n",
       "</div>"
      ],
      "text/plain": [
       "    Sexo  Estatura  Peso   Pie  Brazo  Espalda  Craneo  Rod_Tobi\n",
       "22     0     155.0  53.0  36.0   67.0     43.0    56.0      38.0\n",
       "23     1     189.0  87.0  45.0   82.0     53.0    61.0      52.0\n",
       "24     0     170.0  70.0  38.0   73.0     45.0    56.0      43.0\n",
       "25     1     170.0  67.0  40.0   77.0     46.5    58.0      44.0\n",
       "26     0     168.0  56.0  37.5   70.5     48.0    60.0      40.0"
      ]
     },
     "execution_count": 2,
     "metadata": {},
     "output_type": "execute_result"
    }
   ],
   "source": [
    "cols_headers = \"Sexo Estatura Peso Pie Brazo Espalda Craneo Rod_Tobi\".split()\n",
    "df = pd.read_csv('../datos/Datos1F2.txt', names=cols_headers)\n",
    "df.tail()"
   ]
  },
  {
   "cell_type": "markdown",
   "metadata": {},
   "source": [
    "Como la variable respuesta \"Sexo\" es discreta, se trata de un problema de clasificación"
   ]
  },
  {
   "cell_type": "code",
   "execution_count": 3,
   "metadata": {},
   "outputs": [],
   "source": [
    "y = df['Sexo']\n",
    "X = df.drop('Sexo', axis=1)"
   ]
  },
  {
   "cell_type": "code",
   "execution_count": 4,
   "metadata": {},
   "outputs": [
    {
     "name": "stdout",
     "output_type": "stream",
     "text": [
      "Optimization terminated successfully.\n",
      "         Current function value: 0.335485\n",
      "         Iterations 8\n"
     ]
    }
   ],
   "source": [
    "lr = sm.Logit(y, X)\n",
    "lr_fit = lr.fit()"
   ]
  },
  {
   "cell_type": "code",
   "execution_count": 11,
   "metadata": {},
   "outputs": [
    {
     "name": "stdout",
     "output_type": "stream",
     "text": [
      "                           Logit Regression Results                           \n",
      "==============================================================================\n",
      "Dep. Variable:                   Sexo   No. Observations:                   27\n",
      "Model:                          Logit   Df Residuals:                       20\n",
      "Method:                           MLE   Df Model:                            6\n",
      "Date:                Sat, 30 Apr 2022   Pseudo R-squ.:                  0.5155\n",
      "Time:                        11:48:23   Log-Likelihood:                -9.0581\n",
      "converged:                       True   LL-Null:                       -18.696\n",
      "Covariance Type:            nonrobust   LLR p-value:                  0.003721\n",
      "==============================================================================\n",
      "                 coef    std err          z      P>|z|      [0.025      0.975]\n",
      "------------------------------------------------------------------------------\n",
      "Estatura      -0.6417      0.348     -1.845      0.065      -1.324       0.040\n",
      "Peso          -0.3844      0.175     -2.202      0.028      -0.727      -0.042\n",
      "Pie            1.0098      0.773      1.306      0.191      -0.505       2.525\n",
      "Brazo          0.1164      0.331      0.352      0.725      -0.532       0.764\n",
      "Espalda        1.0611      0.560      1.894      0.058      -0.037       2.159\n",
      "Craneo        -0.8963      0.417     -2.150      0.032      -1.713      -0.079\n",
      "Rod_Tobi       2.0336      0.920      2.210      0.027       0.230       3.837\n",
      "==============================================================================\n"
     ]
    }
   ],
   "source": [
    "print(lr_fit.summary())"
   ]
  },
  {
   "cell_type": "markdown",
   "metadata": {},
   "source": [
    "Hagamos la decisión para el ultimo registro"
   ]
  },
  {
   "cell_type": "code",
   "execution_count": 23,
   "metadata": {},
   "outputs": [
    {
     "data": {
      "text/plain": [
       "(0.008498330818610842, 0)"
      ]
     },
     "execution_count": 23,
     "metadata": {},
     "output_type": "execute_result"
    }
   ],
   "source": [
    "betas = lr_fit.params\n",
    "1 / (1 + np.exp(-(X.iloc[-1] @ betas))) ,y.iloc[-1]"
   ]
  },
  {
   "cell_type": "markdown",
   "metadata": {},
   "source": [
    "Por lo tanto, clasifica como 0 y la clase real del último registro también es 0"
   ]
  },
  {
   "cell_type": "markdown",
   "metadata": {},
   "source": [
    "Para el décimo registro:"
   ]
  },
  {
   "cell_type": "code",
   "execution_count": 24,
   "metadata": {},
   "outputs": [
    {
     "data": {
      "text/plain": [
       "(0.34983794594740514, 1)"
      ]
     },
     "execution_count": 24,
     "metadata": {},
     "output_type": "execute_result"
    }
   ],
   "source": [
    "1 / (1 + np.exp(-(X.iloc[10] @ betas))), y.iloc[10]"
   ]
  },
  {
   "cell_type": "markdown",
   "metadata": {},
   "source": [
    "En este caso, el clasificador se equivocó"
   ]
  },
  {
   "cell_type": "code",
   "execution_count": null,
   "metadata": {},
   "outputs": [],
   "source": []
  }
 ],
 "metadata": {
  "interpreter": {
   "hash": "948d73eb6dfda2e804d788ca8e9f193cc8a7762f6fd3fe59d9c3fe882d54f9f4"
  },
  "kernelspec": {
   "display_name": "Python 3.9.7 ('base')",
   "language": "python",
   "name": "python3"
  },
  "language_info": {
   "codemirror_mode": {
    "name": "ipython",
    "version": 3
   },
   "file_extension": ".py",
   "mimetype": "text/x-python",
   "name": "python",
   "nbconvert_exporter": "python",
   "pygments_lexer": "ipython3",
   "version": "3.9.7"
  },
  "orig_nbformat": 4
 },
 "nbformat": 4,
 "nbformat_minor": 2
}
