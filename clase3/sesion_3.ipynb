{
 "cells": [
  {
   "cell_type": "markdown",
   "metadata": {},
   "source": [
    "# Sesión 1"
   ]
  },
  {
   "cell_type": "code",
   "execution_count": 56,
   "metadata": {},
   "outputs": [],
   "source": [
    "import numpy as np \n",
    "from numpy.linalg import inv\n",
    "import pandas as pd\n",
    "import statsmodels.formula.api as smf\n",
    "import statsmodels.api as sm\n",
    "import matplotlib.pyplot as plt\n",
    "from scipy.stats import t\n",
    "import seaborn as sb"
   ]
  },
  {
   "cell_type": "markdown",
   "metadata": {},
   "source": [
    "# Regresión Lineal Simple\n"
   ]
  },
  {
   "cell_type": "code",
   "execution_count": 57,
   "metadata": {},
   "outputs": [
    {
     "data": {
      "text/html": [
       "<div>\n",
       "<style scoped>\n",
       "    .dataframe tbody tr th:only-of-type {\n",
       "        vertical-align: middle;\n",
       "    }\n",
       "\n",
       "    .dataframe tbody tr th {\n",
       "        vertical-align: top;\n",
       "    }\n",
       "\n",
       "    .dataframe thead th {\n",
       "        text-align: right;\n",
       "    }\n",
       "</style>\n",
       "<table border=\"1\" class=\"dataframe\">\n",
       "  <thead>\n",
       "    <tr style=\"text-align: right;\">\n",
       "      <th></th>\n",
       "      <th>Estatura</th>\n",
       "      <th>Peso</th>\n",
       "      <th>Pie</th>\n",
       "      <th>Brazo</th>\n",
       "      <th>Espalda</th>\n",
       "      <th>Craneo</th>\n",
       "      <th>Rodilla</th>\n",
       "    </tr>\n",
       "  </thead>\n",
       "  <tbody>\n",
       "    <tr>\n",
       "      <th>22</th>\n",
       "      <td>155.0</td>\n",
       "      <td>53.0</td>\n",
       "      <td>36.0</td>\n",
       "      <td>67.0</td>\n",
       "      <td>43.0</td>\n",
       "      <td>56.0</td>\n",
       "      <td>38.0</td>\n",
       "    </tr>\n",
       "    <tr>\n",
       "      <th>23</th>\n",
       "      <td>189.0</td>\n",
       "      <td>87.0</td>\n",
       "      <td>45.0</td>\n",
       "      <td>82.0</td>\n",
       "      <td>53.0</td>\n",
       "      <td>61.0</td>\n",
       "      <td>52.0</td>\n",
       "    </tr>\n",
       "    <tr>\n",
       "      <th>24</th>\n",
       "      <td>170.0</td>\n",
       "      <td>70.0</td>\n",
       "      <td>38.0</td>\n",
       "      <td>73.0</td>\n",
       "      <td>45.0</td>\n",
       "      <td>56.0</td>\n",
       "      <td>43.0</td>\n",
       "    </tr>\n",
       "    <tr>\n",
       "      <th>25</th>\n",
       "      <td>170.0</td>\n",
       "      <td>67.0</td>\n",
       "      <td>40.0</td>\n",
       "      <td>77.0</td>\n",
       "      <td>46.5</td>\n",
       "      <td>58.0</td>\n",
       "      <td>44.0</td>\n",
       "    </tr>\n",
       "    <tr>\n",
       "      <th>26</th>\n",
       "      <td>168.0</td>\n",
       "      <td>56.0</td>\n",
       "      <td>37.5</td>\n",
       "      <td>70.5</td>\n",
       "      <td>48.0</td>\n",
       "      <td>60.0</td>\n",
       "      <td>40.0</td>\n",
       "    </tr>\n",
       "  </tbody>\n",
       "</table>\n",
       "</div>"
      ],
      "text/plain": [
       "    Estatura  Peso   Pie  Brazo  Espalda  Craneo  Rodilla\n",
       "22     155.0  53.0  36.0   67.0     43.0    56.0     38.0\n",
       "23     189.0  87.0  45.0   82.0     53.0    61.0     52.0\n",
       "24     170.0  70.0  38.0   73.0     45.0    56.0     43.0\n",
       "25     170.0  67.0  40.0   77.0     46.5    58.0     44.0\n",
       "26     168.0  56.0  37.5   70.5     48.0    60.0     40.0"
      ]
     },
     "execution_count": 57,
     "metadata": {},
     "output_type": "execute_result"
    }
   ],
   "source": [
    "cols_headers = \"Estatura Peso Pie Brazo Espalda Craneo Rodilla\".split()\n",
    "df = pd.read_csv('../datos/Datos1F.txt', names=cols_headers)\n",
    "df.tail()"
   ]
  },
  {
   "cell_type": "code",
   "execution_count": 58,
   "metadata": {},
   "outputs": [
    {
     "data": {
      "text/html": [
       "<div>\n",
       "<style scoped>\n",
       "    .dataframe tbody tr th:only-of-type {\n",
       "        vertical-align: middle;\n",
       "    }\n",
       "\n",
       "    .dataframe tbody tr th {\n",
       "        vertical-align: top;\n",
       "    }\n",
       "\n",
       "    .dataframe thead th {\n",
       "        text-align: right;\n",
       "    }\n",
       "</style>\n",
       "<table border=\"1\" class=\"dataframe\">\n",
       "  <thead>\n",
       "    <tr style=\"text-align: right;\">\n",
       "      <th></th>\n",
       "      <th>Estatura</th>\n",
       "      <th>Peso</th>\n",
       "      <th>Pie</th>\n",
       "      <th>Brazo</th>\n",
       "      <th>Espalda</th>\n",
       "      <th>Craneo</th>\n",
       "      <th>Rodilla</th>\n",
       "    </tr>\n",
       "  </thead>\n",
       "  <tbody>\n",
       "    <tr>\n",
       "      <th>count</th>\n",
       "      <td>27.000000</td>\n",
       "      <td>27.000000</td>\n",
       "      <td>27.000000</td>\n",
       "      <td>27.000000</td>\n",
       "      <td>27.000000</td>\n",
       "      <td>27.000000</td>\n",
       "      <td>27.000000</td>\n",
       "    </tr>\n",
       "    <tr>\n",
       "      <th>mean</th>\n",
       "      <td>168.777778</td>\n",
       "      <td>63.888889</td>\n",
       "      <td>38.981481</td>\n",
       "      <td>73.462963</td>\n",
       "      <td>45.851852</td>\n",
       "      <td>57.240741</td>\n",
       "      <td>43.074074</td>\n",
       "    </tr>\n",
       "    <tr>\n",
       "      <th>std</th>\n",
       "      <td>10.195524</td>\n",
       "      <td>12.801242</td>\n",
       "      <td>2.863838</td>\n",
       "      <td>4.957368</td>\n",
       "      <td>4.021134</td>\n",
       "      <td>1.841667</td>\n",
       "      <td>3.149187</td>\n",
       "    </tr>\n",
       "    <tr>\n",
       "      <th>min</th>\n",
       "      <td>152.000000</td>\n",
       "      <td>43.000000</td>\n",
       "      <td>34.000000</td>\n",
       "      <td>66.000000</td>\n",
       "      <td>36.000000</td>\n",
       "      <td>54.000000</td>\n",
       "      <td>38.000000</td>\n",
       "    </tr>\n",
       "    <tr>\n",
       "      <th>25%</th>\n",
       "      <td>160.000000</td>\n",
       "      <td>52.000000</td>\n",
       "      <td>36.000000</td>\n",
       "      <td>69.500000</td>\n",
       "      <td>43.500000</td>\n",
       "      <td>56.000000</td>\n",
       "      <td>41.000000</td>\n",
       "    </tr>\n",
       "    <tr>\n",
       "      <th>50%</th>\n",
       "      <td>168.000000</td>\n",
       "      <td>65.000000</td>\n",
       "      <td>39.000000</td>\n",
       "      <td>73.000000</td>\n",
       "      <td>46.000000</td>\n",
       "      <td>57.000000</td>\n",
       "      <td>43.000000</td>\n",
       "    </tr>\n",
       "    <tr>\n",
       "      <th>75%</th>\n",
       "      <td>177.000000</td>\n",
       "      <td>73.500000</td>\n",
       "      <td>41.000000</td>\n",
       "      <td>76.500000</td>\n",
       "      <td>48.000000</td>\n",
       "      <td>58.500000</td>\n",
       "      <td>44.500000</td>\n",
       "    </tr>\n",
       "    <tr>\n",
       "      <th>max</th>\n",
       "      <td>189.000000</td>\n",
       "      <td>91.000000</td>\n",
       "      <td>45.000000</td>\n",
       "      <td>83.000000</td>\n",
       "      <td>53.000000</td>\n",
       "      <td>61.000000</td>\n",
       "      <td>52.000000</td>\n",
       "    </tr>\n",
       "  </tbody>\n",
       "</table>\n",
       "</div>"
      ],
      "text/plain": [
       "         Estatura       Peso        Pie      Brazo    Espalda     Craneo  \\\n",
       "count   27.000000  27.000000  27.000000  27.000000  27.000000  27.000000   \n",
       "mean   168.777778  63.888889  38.981481  73.462963  45.851852  57.240741   \n",
       "std     10.195524  12.801242   2.863838   4.957368   4.021134   1.841667   \n",
       "min    152.000000  43.000000  34.000000  66.000000  36.000000  54.000000   \n",
       "25%    160.000000  52.000000  36.000000  69.500000  43.500000  56.000000   \n",
       "50%    168.000000  65.000000  39.000000  73.000000  46.000000  57.000000   \n",
       "75%    177.000000  73.500000  41.000000  76.500000  48.000000  58.500000   \n",
       "max    189.000000  91.000000  45.000000  83.000000  53.000000  61.000000   \n",
       "\n",
       "         Rodilla  \n",
       "count  27.000000  \n",
       "mean   43.074074  \n",
       "std     3.149187  \n",
       "min    38.000000  \n",
       "25%    41.000000  \n",
       "50%    43.000000  \n",
       "75%    44.500000  \n",
       "max    52.000000  "
      ]
     },
     "execution_count": 58,
     "metadata": {},
     "output_type": "execute_result"
    }
   ],
   "source": [
    "df.describe()"
   ]
  },
  {
   "cell_type": "code",
   "execution_count": 59,
   "metadata": {},
   "outputs": [],
   "source": [
    "lm = smf.ols('Estatura~Peso', df)\n",
    "lm_fit = lm.fit()"
   ]
  },
  {
   "cell_type": "code",
   "execution_count": 60,
   "metadata": {},
   "outputs": [
    {
     "name": "stdout",
     "output_type": "stream",
     "text": [
      "                            OLS Regression Results                            \n",
      "==============================================================================\n",
      "Dep. Variable:               Estatura   R-squared:                       0.689\n",
      "Model:                            OLS   Adj. R-squared:                  0.677\n",
      "Method:                 Least Squares   F-statistic:                     55.46\n",
      "Date:                Sat, 30 Apr 2022   Prob (F-statistic):           8.45e-08\n",
      "Time:                        10:57:41   Log-Likelihood:                -84.714\n",
      "No. Observations:                  27   AIC:                             173.4\n",
      "Df Residuals:                      25   BIC:                             176.0\n",
      "Df Model:                           1                                         \n",
      "Covariance Type:            nonrobust                                         \n",
      "==============================================================================\n",
      "                 coef    std err          t      P>|t|      [0.025      0.975]\n",
      "------------------------------------------------------------------------------\n",
      "Intercept    126.5317      5.781     21.887      0.000     114.625     138.438\n",
      "Peso           0.6612      0.089      7.447      0.000       0.478       0.844\n",
      "==============================================================================\n",
      "Omnibus:                        1.982   Durbin-Watson:                   2.099\n",
      "Prob(Omnibus):                  0.371   Jarque-Bera (JB):                1.608\n",
      "Skew:                          -0.580   Prob(JB):                        0.448\n",
      "Kurtosis:                       2.711   Cond. No.                         338.\n",
      "==============================================================================\n",
      "\n",
      "Notes:\n",
      "[1] Standard Errors assume that the covariance matrix of the errors is correctly specified.\n"
     ]
    }
   ],
   "source": [
    "print(lm_fit.summary())"
   ]
  },
  {
   "cell_type": "markdown",
   "metadata": {},
   "source": [
    "#### Conclusión\n",
    "Con los datos que acabó de arrojar statsmodels se concluye que la recta de regresión es:"
   ]
  },
  {
   "cell_type": "markdown",
   "metadata": {},
   "source": [
    "$$\n",
    "Y = 126.5317 + 0.6612X\n",
    "$$\n",
    "donde $Y$ es la estatura y $X$ el peso"
   ]
  },
  {
   "cell_type": "code",
   "execution_count": 61,
   "metadata": {},
   "outputs": [
    {
     "data": {
      "image/png": "[encoded data removed]",
      "text/plain": [
       "<Figure size 432x288 with 1 Axes>"
      ]
     },
     "metadata": {
      "needs_background": "light"
     },
     "output_type": "display_data"
    }
   ],
   "source": [
    "xx= np.linspace(df['Peso'].min(), df['Peso'].max())\n",
    "yy = 126.5317 + 0.6612*xx\n",
    "fig = plt.plot(df['Peso'], df['Estatura'],'o',xx,yy)"
   ]
  },
  {
   "cell_type": "markdown",
   "metadata": {},
   "source": [
    "Otra forma de calcular los betas es usando matrices"
   ]
  },
  {
   "cell_type": "code",
   "execution_count": 62,
   "metadata": {},
   "outputs": [
    {
     "data": {
      "text/plain": [
       "array([126.53173734,   0.66124237])"
      ]
     },
     "execution_count": 62,
     "metadata": {},
     "output_type": "execute_result"
    }
   ],
   "source": [
    "Y = df['Estatura']\n",
    "df['Ones'] = 1\n",
    "X=df[['Ones','Peso']]\n",
    "betas = inv(X.T @ X) @ (X.T @ Y)\n",
    "betas"
   ]
  },
  {
   "cell_type": "markdown",
   "metadata": {},
   "source": [
    "Los coeficientes encontrados son iguales que los hallados por el modelo de statsmodels"
   ]
  },
  {
   "cell_type": "markdown",
   "metadata": {},
   "source": [
    "## Cálculo de los errores de estimación de los $\\beta$"
   ]
  },
  {
   "cell_type": "markdown",
   "metadata": {},
   "source": [
    "$$\n",
    "V(\\hat{\\beta}_0) = C_{00}\\sigma^2\n",
    "$$\n",
    "$$\n",
    "V(\\hat{\\beta}_1) = C_{11}\\sigma^2\n",
    "$$\n",
    "donde $C_{ii}$ es el elemento de la fila $i$ y columna $i$ de la matriz $(X^TX)^{-1}$\n",
    "\n",
    "Para estimar $\\sigma^2$ se usa una función de los datos muestrales. En este caso:"
   ]
  },
  {
   "cell_type": "markdown",
   "metadata": {},
   "source": [
    "$$\n",
    "\\sigma^2=\\frac{SEE}{(n-2)}\n",
    "$$\n",
    "donde \n",
    "$$\n",
    "SSE = Y^TY-\\beta^TX^TY\n",
    "$$"
   ]
  },
  {
   "cell_type": "code",
   "execution_count": 63,
   "metadata": {},
   "outputs": [
    {
     "data": {
      "text/plain": [
       "33.58905961501412"
      ]
     },
     "execution_count": 63,
     "metadata": {},
     "output_type": "execute_result"
    }
   ],
   "source": [
    "SSE = Y.T @ Y - betas.T @ X.T @ Y\n",
    "n=len(Y)\n",
    "S2=SSE/(n-2)\n",
    "S2"
   ]
  },
  {
   "cell_type": "code",
   "execution_count": 64,
   "metadata": {},
   "outputs": [
    {
     "data": {
      "text/plain": [
       "5.781256064849965"
      ]
     },
     "execution_count": 64,
     "metadata": {},
     "output_type": "execute_result"
    }
   ],
   "source": [
    "# Errores en la estimación de los coeficientes betas\n",
    "P = inv(X.T @ X)\n",
    "\n",
    "C_00 = P[0,0]\n",
    "C_11 = P[1,1]\n",
    "\n",
    "var_b0 = C_00 * S2\n",
    "var_b1 = C_11 * S2\n",
    "\n",
    "# El error es la raiz cuadrada de la varianza del estimador\n",
    "err0 = np.sqrt(var_b0)\n",
    "err1 = np.sqrt(var_b1)\n",
    "\n",
    "err0"
   ]
  },
  {
   "cell_type": "code",
   "execution_count": 65,
   "metadata": {},
   "outputs": [
    {
     "data": {
      "text/plain": [
       "0.08878920007608997"
      ]
     },
     "execution_count": 65,
     "metadata": {},
     "output_type": "execute_result"
    }
   ],
   "source": [
    "err1"
   ]
  },
  {
   "cell_type": "markdown",
   "metadata": {},
   "source": [
    "Por statsmodels se obtuvieron los mismos resultados!"
   ]
  },
  {
   "cell_type": "markdown",
   "metadata": {},
   "source": [
    "## Intervalos de confianza\n",
    "\n",
    "$$\n",
    "\\left[\\hat{\\beta}_i - t_{\\alpha/2} S\\sqrt{C_{ii}} , \\quad \\hat{\\beta}_i + t_{\\alpha/2} S\\sqrt{C_{ii}}\\right]\n",
    "$$"
   ]
  },
  {
   "cell_type": "code",
   "execution_count": 66,
   "metadata": {},
   "outputs": [
    {
     "data": {
      "text/plain": [
       "(114.6250175900689, 138.4384570878635)"
      ]
     },
     "execution_count": 66,
     "metadata": {},
     "output_type": "execute_result"
    }
   ],
   "source": [
    "alpha = 1 - 0.95\n",
    "lower_bound_b0 = betas[0] - t.ppf(0.975, df = len(Y) - len(betas)) * np.sqrt(var_b0)\n",
    "upper_bound_b0 = betas[0] + t.ppf(0.975, df = len(Y) - len(betas)) * np.sqrt(var_b0)\n",
    "lower_bound_b0, upper_bound_b0"
   ]
  },
  {
   "cell_type": "code",
   "execution_count": 67,
   "metadata": {},
   "outputs": [
    {
     "data": {
      "text/plain": [
       "(0.47837759146091907, 0.8441071527105851)"
      ]
     },
     "execution_count": 67,
     "metadata": {},
     "output_type": "execute_result"
    }
   ],
   "source": [
    "lower_bound_b1 = betas[1] - t.ppf(0.975, df = len(Y) - len(betas)) * np.sqrt(var_b1)\n",
    "upper_bound_b1 = betas[1] + t.ppf(0.975, df = len(Y) - len(betas)) * np.sqrt(var_b1)\n",
    "lower_bound_b1, upper_bound_b1"
   ]
  },
  {
   "cell_type": "markdown",
   "metadata": {},
   "source": [
    "Los intervalos de confianza son iguales que los obtenidos por statsmodels.\n",
    "\n",
    "Ahora vamos a calcular el valor $P$ de la prueba de hipótesis"
   ]
  },
  {
   "cell_type": "markdown",
   "metadata": {},
   "source": [
    "$$\n",
    "H_0 : \\beta_i = 0\n",
    "$$\n",
    "$$\n",
    "H_a : \\beta_i \\neq 0\n",
    "$$"
   ]
  },
  {
   "cell_type": "markdown",
   "metadata": {},
   "source": [
    "Necesitamos un test para rechazar la hipótesis nula\n",
    "\n",
    "$$\n",
    "T = \\frac{\\hat{\\beta}_i - \\beta_{i0}}{S\\sqrt{C_{ii}}}\n",
    "$$\n",
    "$$\n",
    "\\beta_{i0} = 0\n",
    "$$"
   ]
  },
  {
   "cell_type": "code",
   "execution_count": 68,
   "metadata": {},
   "outputs": [
    {
     "data": {
      "text/plain": [
       "(21.886547822761063, 7.447328858904969)"
      ]
     },
     "execution_count": 68,
     "metadata": {},
     "output_type": "execute_result"
    }
   ],
   "source": [
    "T_0 = betas[0]/(np.sqrt(var_b0))\n",
    "T_1 = betas[1]/(np.sqrt(var_b1))\n",
    "T_0, T_1"
   ]
  },
  {
   "cell_type": "code",
   "execution_count": 69,
   "metadata": {},
   "outputs": [
    {
     "data": {
      "text/plain": [
       "2.059538552753294"
      ]
     },
     "execution_count": 69,
     "metadata": {},
     "output_type": "execute_result"
    }
   ],
   "source": [
    "t.ppf(0.975, df = len(Y)-len(betas))"
   ]
  },
  {
   "cell_type": "markdown",
   "metadata": {},
   "source": [
    "Con $\\alpha = 5\\% $ se rechaza $H_0$.\n",
    "\n",
    "Calculemos el nivel de significancia alcanzado, es decir, el p-value, que equivale a encontrar el área bajo la curva de la distribución de probabilidad suponiendo que la hipótesis nula $H_0$ es verdadera.\n",
    "\n",
    "El valor del estádistico de prueba calculado con los datos observados fue de $T_0 = 21.8865$ y $T_1=7.4473$"
   ]
  },
  {
   "cell_type": "code",
   "execution_count": 70,
   "metadata": {},
   "outputs": [
    {
     "data": {
      "text/plain": [
       "(3.994404174819729e-18, 4.223976154920601e-08)"
      ]
     },
     "execution_count": 70,
     "metadata": {},
     "output_type": "execute_result"
    }
   ],
   "source": [
    "p_value_0 = t.cdf(-T_0, df=len(Y) - len(betas))\n",
    "p_value_1 = t.cdf(-T_1, df=len(Y) - len(betas))\n",
    "p_value_0, p_value_1"
   ]
  },
  {
   "cell_type": "markdown",
   "metadata": {},
   "source": [
    "Para estos valores, siempre se rechaza $H_0$"
   ]
  },
  {
   "cell_type": "markdown",
   "metadata": {},
   "source": [
    "## Predicción para un valor particular de $Y$\n",
    "\n",
    "Hasta el momento, el modelo entrega es el valor promedio. Calculemos el intervalo de confiazna para una observación en particular"
   ]
  },
  {
   "cell_type": "markdown",
   "metadata": {},
   "source": [
    "$$\n",
    "a^T \\hat{\\beta} \\pm t_{\\alpha/2} S \\sqrt{1 + a^T(X^TX)^{-1}a}\n",
    "$$\n",
    "\n",
    "Caso $a = [1 \\quad 70]$"
   ]
  },
  {
   "cell_type": "code",
   "execution_count": 71,
   "metadata": {},
   "outputs": [
    {
     "data": {
      "text/plain": [
       "(172.81870338496884, 12.20656971599652, 160.61213366897232, 185.02527310096536)"
      ]
     },
     "execution_count": 71,
     "metadata": {},
     "output_type": "execute_result"
    }
   ],
   "source": [
    "a = np.array([1, 70])\n",
    "interval = t.ppf(0.975, df = len(Y) - len(betas)) * np.sqrt(S2) * np.sqrt(1 + a.T @ inv(X.T @ X) @ a)\n",
    "y_predict_min = a @ betas - interval\n",
    "y_predict_max = a @ betas + interval\n",
    "# Valor esperado, error, intervalo de confianza\n",
    "a @ betas, interval, y_predict_min, y_predict_max"
   ]
  },
  {
   "cell_type": "markdown",
   "metadata": {},
   "source": [
    "El valor de predicción de Y no lo arroja StatsModels"
   ]
  },
  {
   "cell_type": "markdown",
   "metadata": {},
   "source": [
    "## Análisis de dependencias entre variables explicativas"
   ]
  },
  {
   "cell_type": "code",
   "execution_count": 72,
   "metadata": {},
   "outputs": [
    {
     "data": {
      "text/html": [
       "<div>\n",
       "<style scoped>\n",
       "    .dataframe tbody tr th:only-of-type {\n",
       "        vertical-align: middle;\n",
       "    }\n",
       "\n",
       "    .dataframe tbody tr th {\n",
       "        vertical-align: top;\n",
       "    }\n",
       "\n",
       "    .dataframe thead th {\n",
       "        text-align: right;\n",
       "    }\n",
       "</style>\n",
       "<table border=\"1\" class=\"dataframe\">\n",
       "  <thead>\n",
       "    <tr style=\"text-align: right;\">\n",
       "      <th></th>\n",
       "      <th>Estatura</th>\n",
       "      <th>Peso</th>\n",
       "      <th>Pie</th>\n",
       "      <th>Brazo</th>\n",
       "      <th>Espalda</th>\n",
       "      <th>Craneo</th>\n",
       "      <th>Rodilla</th>\n",
       "    </tr>\n",
       "  </thead>\n",
       "  <tbody>\n",
       "    <tr>\n",
       "      <th>0</th>\n",
       "      <td>159.0</td>\n",
       "      <td>49.0</td>\n",
       "      <td>36.0</td>\n",
       "      <td>68.0</td>\n",
       "      <td>42.0</td>\n",
       "      <td>57.0</td>\n",
       "      <td>40.0</td>\n",
       "    </tr>\n",
       "    <tr>\n",
       "      <th>1</th>\n",
       "      <td>164.0</td>\n",
       "      <td>62.0</td>\n",
       "      <td>39.0</td>\n",
       "      <td>73.0</td>\n",
       "      <td>44.0</td>\n",
       "      <td>55.0</td>\n",
       "      <td>44.0</td>\n",
       "    </tr>\n",
       "    <tr>\n",
       "      <th>2</th>\n",
       "      <td>172.0</td>\n",
       "      <td>65.0</td>\n",
       "      <td>38.0</td>\n",
       "      <td>75.0</td>\n",
       "      <td>48.0</td>\n",
       "      <td>58.0</td>\n",
       "      <td>44.0</td>\n",
       "    </tr>\n",
       "    <tr>\n",
       "      <th>3</th>\n",
       "      <td>167.0</td>\n",
       "      <td>52.0</td>\n",
       "      <td>37.0</td>\n",
       "      <td>73.0</td>\n",
       "      <td>41.5</td>\n",
       "      <td>58.0</td>\n",
       "      <td>44.0</td>\n",
       "    </tr>\n",
       "    <tr>\n",
       "      <th>4</th>\n",
       "      <td>164.0</td>\n",
       "      <td>51.0</td>\n",
       "      <td>36.0</td>\n",
       "      <td>71.0</td>\n",
       "      <td>44.5</td>\n",
       "      <td>54.0</td>\n",
       "      <td>40.0</td>\n",
       "    </tr>\n",
       "    <tr>\n",
       "      <th>5</th>\n",
       "      <td>161.0</td>\n",
       "      <td>67.0</td>\n",
       "      <td>38.0</td>\n",
       "      <td>71.0</td>\n",
       "      <td>44.0</td>\n",
       "      <td>56.0</td>\n",
       "      <td>42.0</td>\n",
       "    </tr>\n",
       "    <tr>\n",
       "      <th>6</th>\n",
       "      <td>168.0</td>\n",
       "      <td>48.0</td>\n",
       "      <td>39.0</td>\n",
       "      <td>72.5</td>\n",
       "      <td>41.0</td>\n",
       "      <td>54.5</td>\n",
       "      <td>43.0</td>\n",
       "    </tr>\n",
       "  </tbody>\n",
       "</table>\n",
       "</div>"
      ],
      "text/plain": [
       "   Estatura  Peso   Pie  Brazo  Espalda  Craneo  Rodilla\n",
       "0     159.0  49.0  36.0   68.0     42.0    57.0     40.0\n",
       "1     164.0  62.0  39.0   73.0     44.0    55.0     44.0\n",
       "2     172.0  65.0  38.0   75.0     48.0    58.0     44.0\n",
       "3     167.0  52.0  37.0   73.0     41.5    58.0     44.0\n",
       "4     164.0  51.0  36.0   71.0     44.5    54.0     40.0\n",
       "5     161.0  67.0  38.0   71.0     44.0    56.0     42.0\n",
       "6     168.0  48.0  39.0   72.5     41.0    54.5     43.0"
      ]
     },
     "execution_count": 72,
     "metadata": {},
     "output_type": "execute_result"
    }
   ],
   "source": [
    "df.drop('Ones', axis = 1, inplace = True)\n",
    "df.head(7)"
   ]
  },
  {
   "cell_type": "markdown",
   "metadata": {},
   "source": [
    "### 1. Correlación entre pares de variables\n",
    "\n",
    "Correlación entre cada par de variables"
   ]
  },
  {
   "cell_type": "markdown",
   "metadata": {},
   "source": [
    "#### Matriz de correlación de Pearson"
   ]
  },
  {
   "cell_type": "code",
   "execution_count": 73,
   "metadata": {},
   "outputs": [
    {
     "data": {
      "text/plain": [
       "<AxesSubplot:>"
      ]
     },
     "execution_count": 73,
     "metadata": {},
     "output_type": "execute_result"
    },
    {
     "data": {
      "image/png": "[encoded data removed]",
      "text/plain": [
       "<Figure size 432x288 with 2 Axes>"
      ]
     },
     "metadata": {
      "needs_background": "light"
     },
     "output_type": "display_data"
    }
   ],
   "source": [
    "sb.heatmap(df.corr(), cmap='Blues', annot=True)"
   ]
  },
  {
   "cell_type": "markdown",
   "metadata": {},
   "source": [
    "#### Matriz de correlación de Kendall"
   ]
  },
  {
   "cell_type": "code",
   "execution_count": 74,
   "metadata": {},
   "outputs": [
    {
     "data": {
      "text/plain": [
       "<AxesSubplot:>"
      ]
     },
     "execution_count": 74,
     "metadata": {},
     "output_type": "execute_result"
    },
    {
     "data": {
      "image/png": "[encoded data removed]",
      "text/plain": [
       "<Figure size 432x288 with 2 Axes>"
      ]
     },
     "metadata": {
      "needs_background": "light"
     },
     "output_type": "display_data"
    }
   ],
   "source": [
    "sb.heatmap(df.corr('kendall'), cmap='Blues', annot=True)"
   ]
  },
  {
   "cell_type": "markdown",
   "metadata": {},
   "source": [
    "#### Matriz de correlación de Spearman"
   ]
  },
  {
   "cell_type": "code",
   "execution_count": 75,
   "metadata": {},
   "outputs": [
    {
     "data": {
      "text/plain": [
       "<AxesSubplot:>"
      ]
     },
     "execution_count": 75,
     "metadata": {},
     "output_type": "execute_result"
    },
    {
     "data": {
      "image/png": "[encoded data removed]",
      "text/plain": [
       "<Figure size 432x288 with 2 Axes>"
      ]
     },
     "metadata": {
      "needs_background": "light"
     },
     "output_type": "display_data"
    }
   ],
   "source": [
    "sb.heatmap(df.corr('spearman'), cmap='Blues', annot=True)"
   ]
  },
  {
   "cell_type": "markdown",
   "metadata": {},
   "source": [
    "Se observa que la menor correlación es entre la longitud del brazo y el diámetro del cráneo"
   ]
  },
  {
   "cell_type": "markdown",
   "metadata": {},
   "source": [
    "### 2. Correlación lineal múltiple\n",
    "\n",
    "Análisis de dependencia de una variable con el resto de variables. Si una variable es una combinación lineal de las demás, se puede predecir sin error con el resto de variables. Es decir, se puede eliminar la variable de consideración.\n",
    "\n",
    "$$\n",
    "R^2 = 1 - \\frac{1}{S^{jj}S_{jj}}\n",
    "$$\n",
    "donde $S^{jj}$ es el elemento $j$ de la matriz de varianza y covarianzas\n",
    "\n",
    "donde $S_{jj}$ es el elemento $j$ de la matriz de varianza y covarianzas inversa\n",
    "\n",
    "Esta expresión permite calcular los coeficientes de correlación múltiples a partir de las matrices $S$ y $S^{-1}$"
   ]
  },
  {
   "cell_type": "code",
   "execution_count": 76,
   "metadata": {},
   "outputs": [
    {
     "data": {
      "text/html": [
       "<div>\n",
       "<style scoped>\n",
       "    .dataframe tbody tr th:only-of-type {\n",
       "        vertical-align: middle;\n",
       "    }\n",
       "\n",
       "    .dataframe tbody tr th {\n",
       "        vertical-align: top;\n",
       "    }\n",
       "\n",
       "    .dataframe thead th {\n",
       "        text-align: right;\n",
       "    }\n",
       "</style>\n",
       "<table border=\"1\" class=\"dataframe\">\n",
       "  <thead>\n",
       "    <tr style=\"text-align: right;\">\n",
       "      <th></th>\n",
       "      <th>Estatura</th>\n",
       "      <th>Peso</th>\n",
       "      <th>Pie</th>\n",
       "      <th>Brazo</th>\n",
       "      <th>Espalda</th>\n",
       "      <th>Craneo</th>\n",
       "      <th>Rodilla</th>\n",
       "    </tr>\n",
       "  </thead>\n",
       "  <tbody>\n",
       "    <tr>\n",
       "      <th>Estatura</th>\n",
       "      <td>103.948718</td>\n",
       "      <td>108.358974</td>\n",
       "      <td>27.091880</td>\n",
       "      <td>45.856838</td>\n",
       "      <td>34.427350</td>\n",
       "      <td>11.036325</td>\n",
       "      <td>27.132479</td>\n",
       "    </tr>\n",
       "    <tr>\n",
       "      <th>Peso</th>\n",
       "      <td>108.358974</td>\n",
       "      <td>163.871795</td>\n",
       "      <td>31.151709</td>\n",
       "      <td>52.053419</td>\n",
       "      <td>43.213675</td>\n",
       "      <td>14.604701</td>\n",
       "      <td>28.970085</td>\n",
       "    </tr>\n",
       "    <tr>\n",
       "      <th>Pie</th>\n",
       "      <td>27.091880</td>\n",
       "      <td>31.151709</td>\n",
       "      <td>8.201567</td>\n",
       "      <td>12.095442</td>\n",
       "      <td>9.189459</td>\n",
       "      <td>2.889245</td>\n",
       "      <td>7.674501</td>\n",
       "    </tr>\n",
       "    <tr>\n",
       "      <th>Brazo</th>\n",
       "      <td>45.856838</td>\n",
       "      <td>52.053419</td>\n",
       "      <td>12.095442</td>\n",
       "      <td>24.575499</td>\n",
       "      <td>15.975071</td>\n",
       "      <td>4.336182</td>\n",
       "      <td>11.906695</td>\n",
       "    </tr>\n",
       "    <tr>\n",
       "      <th>Espalda</th>\n",
       "      <td>34.427350</td>\n",
       "      <td>43.213675</td>\n",
       "      <td>9.189459</td>\n",
       "      <td>15.975071</td>\n",
       "      <td>16.169516</td>\n",
       "      <td>4.642806</td>\n",
       "      <td>7.992165</td>\n",
       "    </tr>\n",
       "    <tr>\n",
       "      <th>Craneo</th>\n",
       "      <td>11.036325</td>\n",
       "      <td>14.604701</td>\n",
       "      <td>2.889245</td>\n",
       "      <td>4.336182</td>\n",
       "      <td>4.642806</td>\n",
       "      <td>3.391738</td>\n",
       "      <td>3.212251</td>\n",
       "    </tr>\n",
       "    <tr>\n",
       "      <th>Rodilla</th>\n",
       "      <td>27.132479</td>\n",
       "      <td>28.970085</td>\n",
       "      <td>7.674501</td>\n",
       "      <td>11.906695</td>\n",
       "      <td>7.992165</td>\n",
       "      <td>3.212251</td>\n",
       "      <td>9.917379</td>\n",
       "    </tr>\n",
       "  </tbody>\n",
       "</table>\n",
       "</div>"
      ],
      "text/plain": [
       "            Estatura        Peso        Pie      Brazo    Espalda     Craneo  \\\n",
       "Estatura  103.948718  108.358974  27.091880  45.856838  34.427350  11.036325   \n",
       "Peso      108.358974  163.871795  31.151709  52.053419  43.213675  14.604701   \n",
       "Pie        27.091880   31.151709   8.201567  12.095442   9.189459   2.889245   \n",
       "Brazo      45.856838   52.053419  12.095442  24.575499  15.975071   4.336182   \n",
       "Espalda    34.427350   43.213675   9.189459  15.975071  16.169516   4.642806   \n",
       "Craneo     11.036325   14.604701   2.889245   4.336182   4.642806   3.391738   \n",
       "Rodilla    27.132479   28.970085   7.674501  11.906695   7.992165   3.212251   \n",
       "\n",
       "            Rodilla  \n",
       "Estatura  27.132479  \n",
       "Peso      28.970085  \n",
       "Pie        7.674501  \n",
       "Brazo     11.906695  \n",
       "Espalda    7.992165  \n",
       "Craneo     3.212251  \n",
       "Rodilla    9.917379  "
      ]
     },
     "execution_count": 76,
     "metadata": {},
     "output_type": "execute_result"
    }
   ],
   "source": [
    "S = df.cov()\n",
    "S\n"
   ]
  },
  {
   "cell_type": "code",
   "execution_count": 77,
   "metadata": {},
   "outputs": [
    {
     "data": {
      "text/plain": [
       "array([[ 0.14,  0.01, -0.2 , -0.1 , -0.07, -0.05, -0.07],\n",
       "       [ 0.01,  0.03, -0.07, -0.03, -0.04, -0.04, -0.  ],\n",
       "       [-0.2 , -0.07,  1.21,  0.06, -0.04,  0.17, -0.27],\n",
       "       [-0.1 , -0.03,  0.06,  0.28, -0.04,  0.13, -0.03],\n",
       "       [-0.07, -0.04, -0.04, -0.04,  0.33, -0.13,  0.15],\n",
       "       [-0.05, -0.04,  0.17,  0.13, -0.13,  0.61, -0.14],\n",
       "       [-0.07, -0.  , -0.27, -0.03,  0.15, -0.14,  0.48]])"
      ]
     },
     "execution_count": 77,
     "metadata": {},
     "output_type": "execute_result"
    }
   ],
   "source": [
    "S_inv = inv(S)\n",
    "S_inv.round(2)"
   ]
  },
  {
   "cell_type": "markdown",
   "metadata": {},
   "source": [
    "Por ejemplo:"
   ]
  },
  {
   "cell_type": "code",
   "execution_count": 78,
   "metadata": {},
   "outputs": [
    {
     "name": "stdout",
     "output_type": "stream",
     "text": [
      "['Estatura', 'Peso', 'Pie', 'Brazo', 'Espalda', 'Craneo', 'Rodilla']\n"
     ]
    },
    {
     "data": {
      "text/plain": [
       "array([0.93, 0.82, 0.9 , 0.85, 0.81, 0.52, 0.79])"
      ]
     },
     "execution_count": 78,
     "metadata": {},
     "output_type": "execute_result"
    }
   ],
   "source": [
    "R2 = 1 - 1/(np.diag(S)*np.diag(S_inv))\n",
    "print(cols_headers)\n",
    "R2.round(2)"
   ]
  },
  {
   "cell_type": "markdown",
   "metadata": {},
   "source": [
    "Se puede ver que la variable más previsible por las restantes es la estatura ($R^2 = 0.93$) y la menos previsible es el diámetro del cráneo ($R^2 = 0.52$)"
   ]
  },
  {
   "cell_type": "markdown",
   "metadata": {},
   "source": [
    "# QUIZ"
   ]
  },
  {
   "cell_type": "markdown",
   "metadata": {},
   "source": [
    "Hacer la regresión de la estatura contra todas las otras variables y encontrar el coeficiente de determinación"
   ]
  },
  {
   "cell_type": "code",
   "execution_count": null,
   "metadata": {},
   "outputs": [],
   "source": []
  },
  {
   "cell_type": "code",
   "execution_count": 79,
   "metadata": {},
   "outputs": [
    {
     "name": "stdout",
     "output_type": "stream",
     "text": [
      "                            OLS Regression Results                            \n",
      "==============================================================================\n",
      "Dep. Variable:               Estatura   R-squared:                       0.931\n",
      "Model:                            OLS   Adj. R-squared:                  0.910\n",
      "Method:                 Least Squares   F-statistic:                     45.05\n",
      "Date:                Sat, 30 Apr 2022   Prob (F-statistic):           1.40e-10\n",
      "Time:                        10:57:45   Log-Likelihood:                -64.379\n",
      "No. Observations:                  27   AIC:                             142.8\n",
      "Df Residuals:                      20   BIC:                             151.8\n",
      "Df Model:                           6                                         \n",
      "Covariance Type:            nonrobust                                         \n",
      "==============================================================================\n",
      "                 coef    std err          t      P>|t|      [0.025      0.975]\n",
      "------------------------------------------------------------------------------\n",
      "Intercept      0.9831     26.023      0.038      0.970     -53.300      55.266\n",
      "Peso          -0.0944      0.108     -0.874      0.393      -0.320       0.131\n",
      "Pie            1.4031      0.579      2.425      0.025       0.196       2.610\n",
      "Brazo          0.7317      0.270      2.713      0.013       0.169       1.294\n",
      "Espalda        0.4991      0.326      1.533      0.141      -0.180       1.178\n",
      "Craneo         0.3397      0.461      0.737      0.470      -0.621       1.301\n",
      "Rodilla        0.5351      0.396      1.350      0.192      -0.292       1.362\n",
      "==============================================================================\n",
      "Omnibus:                        3.197   Durbin-Watson:                   2.181\n",
      "Prob(Omnibus):                  0.202   Jarque-Bera (JB):                1.399\n",
      "Skew:                          -0.080   Prob(JB):                        0.497\n",
      "Kurtosis:                       1.897   Cond. No.                     6.01e+03\n",
      "==============================================================================\n",
      "\n",
      "Notes:\n",
      "[1] Standard Errors assume that the covariance matrix of the errors is correctly specified.\n",
      "[2] The condition number is large, 6.01e+03. This might indicate that there are\n",
      "strong multicollinearity or other numerical problems.\n"
     ]
    }
   ],
   "source": [
    "lm = smf.ols('Estatura~Peso+Pie+Brazo+Espalda+Craneo+Rodilla', df)\n",
    "lm_fit = lm.fit()\n",
    "print(lm_fit.summary())"
   ]
  },
  {
   "cell_type": "code",
   "execution_count": 80,
   "metadata": {},
   "outputs": [
    {
     "name": "stdout",
     "output_type": "stream",
     "text": [
      "                            OLS Regression Results                            \n",
      "==============================================================================\n",
      "Dep. Variable:               Estatura   R-squared:                       0.931\n",
      "Model:                            OLS   Adj. R-squared:                  0.910\n",
      "Method:                 Least Squares   F-statistic:                     45.05\n",
      "Date:                Sat, 30 Apr 2022   Prob (F-statistic):           1.40e-10\n",
      "Time:                        10:57:45   Log-Likelihood:                -64.379\n",
      "No. Observations:                  27   AIC:                             142.8\n",
      "Df Residuals:                      20   BIC:                             151.8\n",
      "Df Model:                           6                                         \n",
      "Covariance Type:            nonrobust                                         \n",
      "==============================================================================\n",
      "                 coef    std err          t      P>|t|      [0.025      0.975]\n",
      "------------------------------------------------------------------------------\n",
      "Peso          -0.0944      0.108     -0.874      0.393      -0.320       0.131\n",
      "Pie            1.4031      0.579      2.425      0.025       0.196       2.610\n",
      "Brazo          0.7317      0.270      2.713      0.013       0.169       1.294\n",
      "Espalda        0.4991      0.326      1.533      0.141      -0.180       1.178\n",
      "Craneo         0.3397      0.461      0.737      0.470      -0.621       1.301\n",
      "Rodilla        0.5351      0.396      1.350      0.192      -0.292       1.362\n",
      "Intercepto     0.9831     26.023      0.038      0.970     -53.300      55.266\n",
      "==============================================================================\n",
      "Omnibus:                        3.197   Durbin-Watson:                   2.181\n",
      "Prob(Omnibus):                  0.202   Jarque-Bera (JB):                1.399\n",
      "Skew:                          -0.080   Prob(JB):                        0.497\n",
      "Kurtosis:                       1.897   Cond. No.                     6.01e+03\n",
      "==============================================================================\n",
      "\n",
      "Notes:\n",
      "[1] Standard Errors assume that the covariance matrix of the errors is correctly specified.\n",
      "[2] The condition number is large, 6.01e+03. This might indicate that there are\n",
      "strong multicollinearity or other numerical problems.\n"
     ]
    }
   ],
   "source": [
    "X = df.drop('Estatura', axis=1)\n",
    "X['Intercepto'] = 1\n",
    "y = df['Estatura']\n",
    "lm = sm.OLS(y, X,)\n",
    "lm_fit = lm.fit()\n",
    "print(lm_fit.summary())"
   ]
  }
 ],
 "metadata": {
  "interpreter": {
   "hash": "948d73eb6dfda2e804d788ca8e9f193cc8a7762f6fd3fe59d9c3fe882d54f9f4"
  },
  "kernelspec": {
   "display_name": "Python 3.9.7 ('base')",
   "language": "python",
   "name": "python3"
  },
  "language_info": {
   "codemirror_mode": {
    "name": "ipython",
    "version": 3
   },
   "file_extension": ".py",
   "mimetype": "text/x-python",
   "name": "python",
   "nbconvert_exporter": "python",
   "pygments_lexer": "ipython3",
   "version": "3.9.7"
  },
  "orig_nbformat": 4
 },
 "nbformat": 4,
 "nbformat_minor": 2
}
