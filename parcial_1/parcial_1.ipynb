{
 "cells": [
  {
   "cell_type": "code",
   "execution_count": 25,
   "metadata": {},
   "outputs": [],
   "source": [
    "import pandas as pd\n",
    "import numpy as np\n",
    "import numpy.linalg as la\n",
    "from sklearn.preprocessing import StandardScaler\n",
    "import statsmodels.formula.api as smf\n",
    "import statsmodels.api as sm\n",
    "import matplotlib.pyplot as plt\n",
    "from scipy.stats import t"
   ]
  },
  {
   "cell_type": "markdown",
   "metadata": {},
   "source": [
    "# Parcial 1: Estadística en Analítica\n",
    "#### Por Alejandro Velásquez Arango\n",
    "\n",
    "#### Universidad EAFIT\n",
    "\n",
    "#### 07/05/2022"
   ]
  },
  {
   "cell_type": "markdown",
   "metadata": {},
   "source": [
    "## Punto 1"
   ]
  },
  {
   "cell_type": "code",
   "execution_count": 26,
   "metadata": {},
   "outputs": [
    {
     "data": {
      "text/html": [
       "<div>\n",
       "<style scoped>\n",
       "    .dataframe tbody tr th:only-of-type {\n",
       "        vertical-align: middle;\n",
       "    }\n",
       "\n",
       "    .dataframe tbody tr th {\n",
       "        vertical-align: top;\n",
       "    }\n",
       "\n",
       "    .dataframe thead th {\n",
       "        text-align: right;\n",
       "    }\n",
       "</style>\n",
       "<table border=\"1\" class=\"dataframe\">\n",
       "  <thead>\n",
       "    <tr style=\"text-align: right;\">\n",
       "      <th></th>\n",
       "      <th>X</th>\n",
       "      <th>Y</th>\n",
       "    </tr>\n",
       "  </thead>\n",
       "  <tbody>\n",
       "    <tr>\n",
       "      <th>0</th>\n",
       "      <td>-2</td>\n",
       "      <td>0</td>\n",
       "    </tr>\n",
       "    <tr>\n",
       "      <th>1</th>\n",
       "      <td>-1</td>\n",
       "      <td>0</td>\n",
       "    </tr>\n",
       "    <tr>\n",
       "      <th>2</th>\n",
       "      <td>0</td>\n",
       "      <td>1</td>\n",
       "    </tr>\n",
       "    <tr>\n",
       "      <th>3</th>\n",
       "      <td>1</td>\n",
       "      <td>1</td>\n",
       "    </tr>\n",
       "    <tr>\n",
       "      <th>4</th>\n",
       "      <td>2</td>\n",
       "      <td>3</td>\n",
       "    </tr>\n",
       "  </tbody>\n",
       "</table>\n",
       "</div>"
      ],
      "text/plain": [
       "   X  Y\n",
       "0 -2  0\n",
       "1 -1  0\n",
       "2  0  1\n",
       "3  1  1\n",
       "4  2  3"
      ]
     },
     "execution_count": 26,
     "metadata": {},
     "output_type": "execute_result"
    }
   ],
   "source": [
    "df = [\n",
    "    [-2, 0],\n",
    "    [-1, 0],\n",
    "    [0, 1],\n",
    "    [1, 1],\n",
    "    [2, 3]\n",
    "]\n",
    "df = pd.DataFrame(df, columns=\"X Y\".split())\n",
    "df"
   ]
  },
  {
   "cell_type": "code",
   "execution_count": 27,
   "metadata": {},
   "outputs": [
    {
     "name": "stdout",
     "output_type": "stream",
     "text": [
      "                            OLS Regression Results                            \n",
      "==============================================================================\n",
      "Dep. Variable:                      Y   R-squared:                       0.817\n",
      "Model:                            OLS   Adj. R-squared:                  0.756\n",
      "Method:                 Least Squares   F-statistic:                     13.36\n",
      "Date:                Sat, 07 May 2022   Prob (F-statistic):             0.0354\n",
      "Time:                        12:04:32   Log-Likelihood:                -3.3094\n",
      "No. Observations:                   5   AIC:                             10.62\n",
      "Df Residuals:                       3   BIC:                             9.838\n",
      "Df Model:                           1                                         \n",
      "Covariance Type:            nonrobust                                         \n",
      "==============================================================================\n",
      "                 coef    std err          t      P>|t|      [0.025      0.975]\n",
      "------------------------------------------------------------------------------\n",
      "Intercept      1.0000      0.271      3.693      0.034       0.138       1.862\n",
      "X              0.7000      0.191      3.656      0.035       0.091       1.309\n",
      "==============================================================================\n",
      "Omnibus:                          nan   Durbin-Watson:                   2.509\n",
      "Prob(Omnibus):                    nan   Jarque-Bera (JB):                0.396\n",
      "Skew:                          -0.174   Prob(JB):                        0.821\n",
      "Kurtosis:                       1.667   Cond. No.                         1.41\n",
      "==============================================================================\n",
      "\n",
      "Notes:\n",
      "[1] Standard Errors assume that the covariance matrix of the errors is correctly specified.\n"
     ]
    },
    {
     "name": "stderr",
     "output_type": "stream",
     "text": [
      "c:\\Users\\lenovo\\anaconda3\\lib\\site-packages\\statsmodels\\stats\\stattools.py:74: ValueWarning: omni_normtest is not valid with less than 8 observations; 5 samples were given.\n",
      "  warn(\"omni_normtest is not valid with less than 8 observations; %i \"\n"
     ]
    }
   ],
   "source": [
    "lm = smf.ols('Y~X', df)\n",
    "lm_fit = lm.fit()\n",
    "print(lm_fit.summary())"
   ]
  },
  {
   "cell_type": "markdown",
   "metadata": {},
   "source": [
    "Con statsmodels, se obtiene el modelo de regresión lineal:\n",
    "\n",
    "$$\n",
    "Y = 1 + 0.7X\n",
    "$$"
   ]
  },
  {
   "cell_type": "markdown",
   "metadata": {},
   "source": [
    "Los mismos coeficientes se pueden obtener de manera matricial, resolviendo la ecuación\n",
    "\n",
    "$$\n",
    "\\beta = \\left( X^TX\\right)^{-1}X^T Y\n",
    "$$"
   ]
  },
  {
   "cell_type": "code",
   "execution_count": 28,
   "metadata": {},
   "outputs": [
    {
     "data": {
      "text/plain": [
       "array([1. , 0.7])"
      ]
     },
     "execution_count": 28,
     "metadata": {},
     "output_type": "execute_result"
    }
   ],
   "source": [
    "Y = df.Y\n",
    "df['Ones'] = 1\n",
    "X=df[['Ones','X']]\n",
    "betas = la.inv(X.T @ X) @ (X.T @ Y)\n",
    "betas"
   ]
  },
  {
   "cell_type": "code",
   "execution_count": 29,
   "metadata": {},
   "outputs": [
    {
     "data": {
      "image/png": "[encoded data removed]",
      "text/plain": [
       "<Figure size 432x288 with 1 Axes>"
      ]
     },
     "metadata": {
      "needs_background": "light"
     },
     "output_type": "display_data"
    }
   ],
   "source": [
    "xx= np.linspace(df.X.min(), df.X.max())\n",
    "yy = 1 + 0.7*xx\n",
    "fig = plt.plot(df.X, df.Y,'o',xx,yy)"
   ]
  },
  {
   "cell_type": "markdown",
   "metadata": {},
   "source": [
    "Cuando $X=1$, el valor esperado de $Y$ es \n",
    "\n",
    "$$\n",
    "Y=1 + 0.7(1) = 1.7\n",
    "$$"
   ]
  },
  {
   "cell_type": "code",
   "execution_count": 30,
   "metadata": {},
   "outputs": [
    {
     "data": {
      "text/plain": [
       "0.366666666666666"
      ]
     },
     "execution_count": 30,
     "metadata": {},
     "output_type": "execute_result"
    }
   ],
   "source": [
    "SSE = Y.T @ Y - betas.T @ X.T @ Y\n",
    "n=len(Y)\n",
    "S2=SSE/(n-2)\n",
    "S2"
   ]
  },
  {
   "cell_type": "code",
   "execution_count": 31,
   "metadata": {},
   "outputs": [],
   "source": [
    "P = la.inv(X.T @ X)\n",
    "\n",
    "C_00 = P[0,0]\n",
    "C_11 = P[1,1]\n",
    "\n",
    "var_b0 = C_00 * S2\n",
    "var_b1 = C_11 * S2"
   ]
  },
  {
   "cell_type": "markdown",
   "metadata": {},
   "source": [
    "Para $X=2$, se tiene $a^T=[1,\\: 2]$. El intervalo de confianza de $Y$ viene dado por:\n",
    "\n",
    "$$\n",
    "a^T\\hat{\\beta} \\pm t_{\\alpha/2}S\\sqrt{1 + a^T(X^TX)^{-1}a}\n",
    "$$"
   ]
  },
  {
   "cell_type": "code",
   "execution_count": 32,
   "metadata": {},
   "outputs": [
    {
     "data": {
      "text/plain": [
       "0.5866666666666656"
      ]
     },
     "execution_count": 32,
     "metadata": {},
     "output_type": "execute_result"
    }
   ],
   "source": [
    "# El 1 del primer valor del vector corresponde al intercepto\n",
    "a = np.array([1, 2])\n",
    "P = la.inv(X.T @ X)\n",
    "var_y = S2 * (1 + a.T @ P @ a)\n",
    "var_y"
   ]
  },
  {
   "cell_type": "code",
   "execution_count": 33,
   "metadata": {},
   "outputs": [
    {
     "data": {
      "text/plain": [
       "(-0.03756828932652212, 4.837568289326523)"
      ]
     },
     "execution_count": 33,
     "metadata": {},
     "output_type": "execute_result"
    }
   ],
   "source": [
    "# El 1 del primer valor del vector corresponde al intercepto\n",
    "lower_bound_y = a.T @ betas - t.ppf(0.975, df = len(Y) - len(betas)) * np.sqrt(var_y)\n",
    "upper_bound_y = a.T @ betas + t.ppf(0.975, df = len(Y) - len(betas)) * np.sqrt(var_y)\n",
    "lower_bound_y, upper_bound_y"
   ]
  },
  {
   "cell_type": "markdown",
   "metadata": {},
   "source": [
    "El intervalo de confianza para la predicción de $Y$ con $X=2$ es:\n",
    "$$\n",
    "[-0.037, \\; 4.837]\n",
    "$$"
   ]
  },
  {
   "cell_type": "markdown",
   "metadata": {},
   "source": [
    "## Punto 2\n",
    "\n",
    "Carga de datos"
   ]
  },
  {
   "cell_type": "code",
   "execution_count": 34,
   "metadata": {},
   "outputs": [
    {
     "data": {
      "text/html": [
       "<div>\n",
       "<style scoped>\n",
       "    .dataframe tbody tr th:only-of-type {\n",
       "        vertical-align: middle;\n",
       "    }\n",
       "\n",
       "    .dataframe tbody tr th {\n",
       "        vertical-align: top;\n",
       "    }\n",
       "\n",
       "    .dataframe thead th {\n",
       "        text-align: right;\n",
       "    }\n",
       "</style>\n",
       "<table border=\"1\" class=\"dataframe\">\n",
       "  <thead>\n",
       "    <tr style=\"text-align: right;\">\n",
       "      <th></th>\n",
       "      <th>X1</th>\n",
       "      <th>X2</th>\n",
       "      <th>X3</th>\n",
       "      <th>X4</th>\n",
       "      <th>X5</th>\n",
       "      <th>X6</th>\n",
       "      <th>X7</th>\n",
       "      <th>X8</th>\n",
       "      <th>X9</th>\n",
       "      <th>X10</th>\n",
       "      <th>X11</th>\n",
       "    </tr>\n",
       "  </thead>\n",
       "  <tbody>\n",
       "    <tr>\n",
       "      <th>91</th>\n",
       "      <td>2.4</td>\n",
       "      <td>23</td>\n",
       "      <td>33</td>\n",
       "      <td>65382</td>\n",
       "      <td>73116</td>\n",
       "      <td>111</td>\n",
       "      <td>382</td>\n",
       "      <td>52</td>\n",
       "      <td>1.2</td>\n",
       "      <td>2186</td>\n",
       "      <td>5.7</td>\n",
       "    </tr>\n",
       "    <tr>\n",
       "      <th>92</th>\n",
       "      <td>2.2</td>\n",
       "      <td>41</td>\n",
       "      <td>49</td>\n",
       "      <td>17634</td>\n",
       "      <td>12270</td>\n",
       "      <td>11</td>\n",
       "      <td>414</td>\n",
       "      <td>26</td>\n",
       "      <td>1.5</td>\n",
       "      <td>101</td>\n",
       "      <td>0.3</td>\n",
       "    </tr>\n",
       "    <tr>\n",
       "      <th>93</th>\n",
       "      <td>4.2</td>\n",
       "      <td>100</td>\n",
       "      <td>29</td>\n",
       "      <td>4044</td>\n",
       "      <td>2159</td>\n",
       "      <td>12</td>\n",
       "      <td>335</td>\n",
       "      <td>8</td>\n",
       "      <td>0.0</td>\n",
       "      <td>206</td>\n",
       "      <td>0.7</td>\n",
       "    </tr>\n",
       "    <tr>\n",
       "      <th>94</th>\n",
       "      <td>2.6</td>\n",
       "      <td>109</td>\n",
       "      <td>45</td>\n",
       "      <td>3605</td>\n",
       "      <td>7785</td>\n",
       "      <td>8</td>\n",
       "      <td>186</td>\n",
       "      <td>43</td>\n",
       "      <td>1.1</td>\n",
       "      <td>149</td>\n",
       "      <td>0.3</td>\n",
       "    </tr>\n",
       "    <tr>\n",
       "      <th>95</th>\n",
       "      <td>2.8</td>\n",
       "      <td>55</td>\n",
       "      <td>44</td>\n",
       "      <td>5933</td>\n",
       "      <td>7334</td>\n",
       "      <td>14</td>\n",
       "      <td>136</td>\n",
       "      <td>23</td>\n",
       "      <td>0.7</td>\n",
       "      <td>438</td>\n",
       "      <td>1.8</td>\n",
       "    </tr>\n",
       "  </tbody>\n",
       "</table>\n",
       "</div>"
      ],
      "text/plain": [
       "     X1   X2  X3     X4     X5   X6   X7  X8   X9   X10  X11\n",
       "91  2.4   23  33  65382  73116  111  382  52  1.2  2186  5.7\n",
       "92  2.2   41  49  17634  12270   11  414  26  1.5   101  0.3\n",
       "93  4.2  100  29   4044   2159   12  335   8  0.0   206  0.7\n",
       "94  2.6  109  45   3605   7785    8  186  43  1.1   149  0.3\n",
       "95  2.8   55  44   5933   7334   14  136  23  0.7   438  1.8"
      ]
     },
     "execution_count": 34,
     "metadata": {},
     "output_type": "execute_result"
    }
   ],
   "source": [
    "df = pd.read_csv('../datos/paises.csv')\n",
    "df.tail()"
   ]
  },
  {
   "cell_type": "markdown",
   "metadata": {},
   "source": [
    "Se calcula primero la matriz de covarianzas y se obtiene su inversa"
   ]
  },
  {
   "cell_type": "code",
   "execution_count": 35,
   "metadata": {},
   "outputs": [],
   "source": [
    "S = df.cov()\n",
    "S_inv = la.inv(S)"
   ]
  },
  {
   "cell_type": "code",
   "execution_count": 36,
   "metadata": {},
   "outputs": [
    {
     "name": "stdout",
     "output_type": "stream",
     "text": [
      "Index(['X1', 'X2', 'X3', 'X4', 'X5', 'X6', 'X7', 'X8', 'X9', 'X10', 'X11'], dtype='object')\n"
     ]
    },
    {
     "data": {
      "text/plain": [
       "array([0.68, 0.68, 0.64, 0.67, 0.63, 0.82, 0.3 , 0.19, 0.22, 0.87, 0.81])"
      ]
     },
     "execution_count": 36,
     "metadata": {},
     "output_type": "execute_result"
    }
   ],
   "source": [
    "R2 = 1 - 1/(np.diag(S)*np.diag(S_inv))\n",
    "print(df.columns)\n",
    "R2.round(2)"
   ]
  },
  {
   "cell_type": "markdown",
   "metadata": {},
   "source": [
    "Calculando el los coeficientes de correlación múltiples y obteniendo $R^2 = 1 - \\frac{1}{S^{jj}S_{jj}}$, se puede determinar que la variable que mejor se puede explicar en términos de las otras es $X_{10}$"
   ]
  },
  {
   "cell_type": "markdown",
   "metadata": {},
   "source": [
    "### PCA\n",
    "\n",
    "Primero, los datos deben estar estandarizados para se tenga media 0 y desviación 1"
   ]
  },
  {
   "cell_type": "markdown",
   "metadata": {},
   "source": [
    "\n",
    "Se obitene las autovectores y autovalores de la matriz de covarianza"
   ]
  },
  {
   "cell_type": "code",
   "execution_count": 37,
   "metadata": {},
   "outputs": [
    {
     "name": "stdout",
     "output_type": "stream",
     "text": [
      "[-1.85037171e-16  3.70074342e-17  3.70074342e-17 -2.77555756e-17\n",
      " -3.23815049e-17  0.00000000e+00 -9.25185854e-18  7.86407976e-17\n",
      "  0.00000000e+00  2.77555756e-17  5.55111512e-17]\n",
      "[1. 1. 1. 1. 1. 1. 1. 1. 1. 1. 1.]\n"
     ]
    }
   ],
   "source": [
    "df_stand = StandardScaler().fit_transform(df)\n",
    "print(df_stand.mean(axis=0))\n",
    "print(df_stand.std(axis=0))"
   ]
  },
  {
   "cell_type": "markdown",
   "metadata": {},
   "source": [
    "Ahora se calcula la matriz de covarianza de los datos estandarizados"
   ]
  },
  {
   "cell_type": "code",
   "execution_count": 38,
   "metadata": {},
   "outputs": [
    {
     "name": "stdout",
     "output_type": "stream",
     "text": [
      "[4.07 1.95 1.38 0.07 0.15 0.17 0.33 0.58 0.87 0.8  0.74]\n",
      "[[ 0.31 -0.35 -0.07 -0.1   0.35  0.52  0.09 -0.16  0.44  0.33 -0.18]\n",
      " [ 0.39  0.04 -0.18  0.17 -0.39 -0.29  0.32 -0.64  0.13 -0.08 -0.09]\n",
      " [-0.12  0.58  0.17 -0.17  0.43  0.24 -0.05 -0.53 -0.06 -0.19  0.17]\n",
      " [-0.3   0.18 -0.53 -0.15  0.35 -0.37  0.45  0.15  0.26  0.14  0.05]\n",
      " [-0.26  0.17 -0.61  0.12 -0.34  0.31 -0.5  -0.11  0.17  0.08  0.03]\n",
      " [-0.45  0.03  0.15  0.45 -0.21  0.45  0.57  0.   -0.05  0.05  0.02]\n",
      " [-0.09 -0.32 -0.37 -0.07  0.21  0.08  0.06 -0.24 -0.74 -0.03 -0.31]\n",
      " [-0.01  0.46  0.16 -0.01 -0.09 -0.07 -0.04  0.08 -0.04  0.42 -0.75]\n",
      " [ 0.24  0.15 -0.03  0.07 -0.03 -0.02  0.02 -0.01 -0.34  0.73  0.51]\n",
      " [-0.42 -0.23  0.21 -0.68 -0.36 -0.04  0.05 -0.27  0.07  0.23  0.06]\n",
      " [-0.37 -0.29  0.21  0.47  0.29 -0.38 -0.31 -0.34  0.15  0.24 -0.03]]\n"
     ]
    }
   ],
   "source": [
    "S = np.cov(df_stand.T)\n",
    "eig_values, eig_vectors = la.eig(S)\n",
    "print(eig_values.round(2))\n",
    "print(eig_vectors.round(2))"
   ]
  },
  {
   "cell_type": "code",
   "execution_count": 39,
   "metadata": {},
   "outputs": [
    {
     "name": "stdout",
     "output_type": "stream",
     "text": [
      "0.36621392092378485\n",
      "0.17545381348370237\n"
     ]
    }
   ],
   "source": [
    "print(eig_values[0]/eig_values.sum().round(2))\n",
    "print(eig_values[1]/eig_values.sum())"
   ]
  },
  {
   "cell_type": "markdown",
   "metadata": {},
   "source": [
    "Se seleccionan los dos primeros autovalores que son los que tienen mayor valor: $\\lambda_1=4.07$ y $\\lambda_2=1.95$"
   ]
  },
  {
   "cell_type": "code",
   "execution_count": 40,
   "metadata": {},
   "outputs": [
    {
     "data": {
      "text/html": [
       "<div>\n",
       "<style scoped>\n",
       "    .dataframe tbody tr th:only-of-type {\n",
       "        vertical-align: middle;\n",
       "    }\n",
       "\n",
       "    .dataframe tbody tr th {\n",
       "        vertical-align: top;\n",
       "    }\n",
       "\n",
       "    .dataframe thead th {\n",
       "        text-align: right;\n",
       "    }\n",
       "</style>\n",
       "<table border=\"1\" class=\"dataframe\">\n",
       "  <thead>\n",
       "    <tr style=\"text-align: right;\">\n",
       "      <th></th>\n",
       "      <th>Z1</th>\n",
       "      <th>Z2</th>\n",
       "    </tr>\n",
       "  </thead>\n",
       "  <tbody>\n",
       "    <tr>\n",
       "      <th>91</th>\n",
       "      <td>0.165907</td>\n",
       "      <td>0.114074</td>\n",
       "    </tr>\n",
       "    <tr>\n",
       "      <th>92</th>\n",
       "      <td>1.366391</td>\n",
       "      <td>1.072347</td>\n",
       "    </tr>\n",
       "    <tr>\n",
       "      <th>93</th>\n",
       "      <td>2.599022</td>\n",
       "      <td>-1.350077</td>\n",
       "    </tr>\n",
       "    <tr>\n",
       "      <th>94</th>\n",
       "      <td>2.340780</td>\n",
       "      <td>1.230173</td>\n",
       "    </tr>\n",
       "    <tr>\n",
       "      <th>95</th>\n",
       "      <td>1.505448</td>\n",
       "      <td>0.447563</td>\n",
       "    </tr>\n",
       "  </tbody>\n",
       "</table>\n",
       "</div>"
      ],
      "text/plain": [
       "          Z1        Z2\n",
       "91  0.165907  0.114074\n",
       "92  1.366391  1.072347\n",
       "93  2.599022 -1.350077\n",
       "94  2.340780  1.230173\n",
       "95  1.505448  0.447563"
      ]
     },
     "execution_count": 40,
     "metadata": {},
     "output_type": "execute_result"
    }
   ],
   "source": [
    "new_df = []\n",
    "for index, row in enumerate(df_stand):\n",
    "    new_df.append([np.dot(eig_vectors[:,0], row), np.dot(eig_vectors[:,1], row)])\n",
    "new_df = pd.DataFrame(np.array(new_df), columns=\"Z1 Z2\".split())\n",
    "new_df.tail()"
   ]
  },
  {
   "cell_type": "code",
   "execution_count": 41,
   "metadata": {},
   "outputs": [
    {
     "data": {
      "text/plain": [
       "Z1   -2.465597\n",
       "Z2    1.024444\n",
       "Name: 13, dtype: float64"
      ]
     },
     "execution_count": 41,
     "metadata": {},
     "output_type": "execute_result"
    }
   ],
   "source": [
    "new_df.iloc[13]"
   ]
  },
  {
   "cell_type": "markdown",
   "metadata": {},
   "source": [
    "Para el registro $x^{(13)}$, las componentes en el plano de $Z_1$ y $Z_2$ son $(-2.46,\\: 1.02)$"
   ]
  },
  {
   "cell_type": "markdown",
   "metadata": {},
   "source": [
    "Para saber cual es la variable que más aporta en el componente principal $Z_2$, se debe observar el autovector asociado"
   ]
  },
  {
   "cell_type": "code",
   "execution_count": 42,
   "metadata": {},
   "outputs": [
    {
     "name": "stdout",
     "output_type": "stream",
     "text": [
      "Index(['X1', 'X2', 'X3', 'X4', 'X5', 'X6', 'X7', 'X8', 'X9', 'X10', 'X11'], dtype='object')\n",
      "[ 0.39  0.04 -0.18  0.17 -0.39 -0.29  0.32 -0.64  0.13 -0.08 -0.09]\n"
     ]
    }
   ],
   "source": [
    "print(df.columns)\n",
    "print(eig_vectors[1].round(2))"
   ]
  },
  {
   "cell_type": "markdown",
   "metadata": {},
   "source": [
    "La variable que más aporta al componente principal $Z_2$ es $X_8$, con un coeficiente de $-0.64$"
   ]
  },
  {
   "cell_type": "code",
   "execution_count": 43,
   "metadata": {},
   "outputs": [
    {
     "data": {
      "text/plain": [
       "Text(0, 0.5, 'Z2')"
      ]
     },
     "execution_count": 43,
     "metadata": {},
     "output_type": "execute_result"
    },
    {
     "data": {
      "image/png": "[encoded data removed]",
      "text/plain": [
       "<Figure size 432x288 with 1 Axes>"
      ]
     },
     "metadata": {
      "needs_background": "light"
     },
     "output_type": "display_data"
    }
   ],
   "source": [
    "plt.plot(new_df.Z1, new_df.Z2, 'o')\n",
    "plt.xlabel(\"Z1\")\n",
    "plt.ylabel(\"Z2\")\n"
   ]
  },
  {
   "cell_type": "markdown",
   "metadata": {},
   "source": [
    "A partir de la gráfica, se puede observar un outlier alrededor de $(-3, \\: 3)$"
   ]
  },
  {
   "cell_type": "markdown",
   "metadata": {},
   "source": [
    "## Punto 3"
   ]
  },
  {
   "cell_type": "code",
   "execution_count": 44,
   "metadata": {},
   "outputs": [
    {
     "data": {
      "text/html": [
       "<div>\n",
       "<style scoped>\n",
       "    .dataframe tbody tr th:only-of-type {\n",
       "        vertical-align: middle;\n",
       "    }\n",
       "\n",
       "    .dataframe tbody tr th {\n",
       "        vertical-align: top;\n",
       "    }\n",
       "\n",
       "    .dataframe thead th {\n",
       "        text-align: right;\n",
       "    }\n",
       "</style>\n",
       "<table border=\"1\" class=\"dataframe\">\n",
       "  <thead>\n",
       "    <tr style=\"text-align: right;\">\n",
       "      <th></th>\n",
       "      <th>X1</th>\n",
       "      <th>X2</th>\n",
       "      <th>Y</th>\n",
       "    </tr>\n",
       "  </thead>\n",
       "  <tbody>\n",
       "    <tr>\n",
       "      <th>0</th>\n",
       "      <td>-2</td>\n",
       "      <td>0</td>\n",
       "      <td>0</td>\n",
       "    </tr>\n",
       "    <tr>\n",
       "      <th>1</th>\n",
       "      <td>-1</td>\n",
       "      <td>0</td>\n",
       "      <td>1</td>\n",
       "    </tr>\n",
       "    <tr>\n",
       "      <th>2</th>\n",
       "      <td>0</td>\n",
       "      <td>1</td>\n",
       "      <td>1</td>\n",
       "    </tr>\n",
       "    <tr>\n",
       "      <th>3</th>\n",
       "      <td>1</td>\n",
       "      <td>1</td>\n",
       "      <td>0</td>\n",
       "    </tr>\n",
       "    <tr>\n",
       "      <th>4</th>\n",
       "      <td>2</td>\n",
       "      <td>3</td>\n",
       "      <td>1</td>\n",
       "    </tr>\n",
       "  </tbody>\n",
       "</table>\n",
       "</div>"
      ],
      "text/plain": [
       "   X1  X2  Y\n",
       "0  -2   0  0\n",
       "1  -1   0  1\n",
       "2   0   1  1\n",
       "3   1   1  0\n",
       "4   2   3  1"
      ]
     },
     "execution_count": 44,
     "metadata": {},
     "output_type": "execute_result"
    }
   ],
   "source": [
    "df = [\n",
    "    [-2, 0, 0],\n",
    "    [-1, 0, 1],\n",
    "    [0, 1, 1],\n",
    "    [1, 1, 0],\n",
    "    [2, 3, 1]\n",
    "]\n",
    "df = pd.DataFrame(df, columns=\"X1 X2 Y\".split())\n",
    "df"
   ]
  },
  {
   "cell_type": "markdown",
   "metadata": {},
   "source": [
    "La función de pérdida de un modelo de regresión logística viene dada por:\n",
    "\n",
    "$$\n",
    "L = \\frac{1}{m}\\sum_i^m\\left[-Y^{(i)} \\cdot \\ln\\left[g(X^{(i)}\\cdot\\beta)\\right] - (1 - Y^{(i)}) \\left( 1 - \\ln\\left[g(X^{(i)}\\cdot\\beta)\\right] \\right) \\right]\n",
    "$$\n",
    "\n",
    "donde\n",
    "\n",
    "$$\n",
    "g(X\\cdot \\beta) = \\frac{1}{1+e^{-(X\\cdot \\beta)}} = \\frac{1}{1+e^{-(\\beta_0+\\beta_1X)}}\n",
    "$$"
   ]
  },
  {
   "cell_type": "markdown",
   "metadata": {},
   "source": [
    "Ajustemos los datos a un modelo de regresión logística y determinemos la predicción para el punto $(0, \\; 2)$"
   ]
  },
  {
   "cell_type": "code",
   "execution_count": 45,
   "metadata": {},
   "outputs": [
    {
     "name": "stdout",
     "output_type": "stream",
     "text": [
      "Optimization terminated successfully.\n",
      "         Current function value: 0.601406\n",
      "         Iterations 6\n"
     ]
    }
   ],
   "source": [
    "X = df.drop('Y', axis=1)\n",
    "y = df.Y\n",
    "lr = sm.Logit(y, X)\n",
    "lr_fit = lr.fit()"
   ]
  },
  {
   "cell_type": "code",
   "execution_count": 46,
   "metadata": {},
   "outputs": [
    {
     "name": "stdout",
     "output_type": "stream",
     "text": [
      "                           Logit Regression Results                           \n",
      "==============================================================================\n",
      "Dep. Variable:                      Y   No. Observations:                    5\n",
      "Model:                          Logit   Df Residuals:                        3\n",
      "Method:                           MLE   Df Model:                            1\n",
      "Date:                Sat, 07 May 2022   Pseudo R-squ.:                  0.1064\n",
      "Time:                        12:04:37   Log-Likelihood:                -3.0070\n",
      "converged:                       True   LL-Null:                       -3.3651\n",
      "Covariance Type:            nonrobust   LLR p-value:                    0.3974\n",
      "==============================================================================\n",
      "                 coef    std err          z      P>|z|      [0.025      0.975]\n",
      "------------------------------------------------------------------------------\n",
      "X1             0.0406      0.855      0.047      0.962      -1.635       1.716\n",
      "X2             0.6684      1.012      0.660      0.509      -1.315       2.652\n",
      "==============================================================================\n"
     ]
    }
   ],
   "source": [
    "print(lr_fit.summary())"
   ]
  },
  {
   "cell_type": "code",
   "execution_count": 47,
   "metadata": {},
   "outputs": [
    {
     "data": {
      "text/plain": [
       "0.7919551575395981"
      ]
     },
     "execution_count": 47,
     "metadata": {},
     "output_type": "execute_result"
    }
   ],
   "source": [
    "a = np.array([0, 2])\n",
    "betas = lr_fit.params\n",
    "1 / (1 + np.exp(-(a @ betas)))"
   ]
  },
  {
   "cell_type": "markdown",
   "metadata": {},
   "source": [
    "Como el valor es mayor a 0.5, se dice que la clase predicha para el punto $(0, \\; 2)$ es $1$"
   ]
  }
 ],
 "metadata": {
  "interpreter": {
   "hash": "a71a9e4fb054fff428071484f7faa898cb9ecb31a518fe88e3463da9af879578"
  },
  "kernelspec": {
   "display_name": "Python 3.9.7 ('base')",
   "language": "python",
   "name": "python3"
  },
  "language_info": {
   "codemirror_mode": {
    "name": "ipython",
    "version": 3
   },
   "file_extension": ".py",
   "mimetype": "text/x-python",
   "name": "python",
   "nbconvert_exporter": "python",
   "pygments_lexer": "ipython3",
   "version": "3.9.7"
  },
  "orig_nbformat": 4
 },
 "nbformat": 4,
 "nbformat_minor": 2
}
