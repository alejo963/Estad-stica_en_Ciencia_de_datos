{
 "cells": [
  {
   "cell_type": "markdown",
   "metadata": {},
   "source": [
    "# Sesión 1"
   ]
  },
  {
   "cell_type": "code",
   "execution_count": 1,
   "metadata": {},
   "outputs": [],
   "source": [
    "import numpy as np \n",
    "from numpy.linalg import inv\n",
    "import pandas as pd\n",
    "import statsmodels.formula.api as smf\n",
    "import matplotlib.pyplot as plt\n",
    "from scipy.stats import t"
   ]
  },
  {
   "cell_type": "markdown",
   "metadata": {},
   "source": [
    "# Regresión Lineal Simple\n"
   ]
  },
  {
   "cell_type": "code",
   "execution_count": 2,
   "metadata": {},
   "outputs": [
    {
     "data": {
      "text/html": [
       "<div>\n",
       "<style scoped>\n",
       "    .dataframe tbody tr th:only-of-type {\n",
       "        vertical-align: middle;\n",
       "    }\n",
       "\n",
       "    .dataframe tbody tr th {\n",
       "        vertical-align: top;\n",
       "    }\n",
       "\n",
       "    .dataframe thead th {\n",
       "        text-align: right;\n",
       "    }\n",
       "</style>\n",
       "<table border=\"1\" class=\"dataframe\">\n",
       "  <thead>\n",
       "    <tr style=\"text-align: right;\">\n",
       "      <th></th>\n",
       "      <th>Estatura</th>\n",
       "      <th>Peso</th>\n",
       "      <th>Pie</th>\n",
       "      <th>Brazo</th>\n",
       "      <th>Espalda</th>\n",
       "      <th>Craneo</th>\n",
       "      <th>Rodilla</th>\n",
       "    </tr>\n",
       "  </thead>\n",
       "  <tbody>\n",
       "    <tr>\n",
       "      <th>22</th>\n",
       "      <td>155.0</td>\n",
       "      <td>53.0</td>\n",
       "      <td>36.0</td>\n",
       "      <td>67.0</td>\n",
       "      <td>43.0</td>\n",
       "      <td>56.0</td>\n",
       "      <td>38.0</td>\n",
       "    </tr>\n",
       "    <tr>\n",
       "      <th>23</th>\n",
       "      <td>189.0</td>\n",
       "      <td>87.0</td>\n",
       "      <td>45.0</td>\n",
       "      <td>82.0</td>\n",
       "      <td>53.0</td>\n",
       "      <td>61.0</td>\n",
       "      <td>52.0</td>\n",
       "    </tr>\n",
       "    <tr>\n",
       "      <th>24</th>\n",
       "      <td>170.0</td>\n",
       "      <td>70.0</td>\n",
       "      <td>38.0</td>\n",
       "      <td>73.0</td>\n",
       "      <td>45.0</td>\n",
       "      <td>56.0</td>\n",
       "      <td>43.0</td>\n",
       "    </tr>\n",
       "    <tr>\n",
       "      <th>25</th>\n",
       "      <td>170.0</td>\n",
       "      <td>67.0</td>\n",
       "      <td>40.0</td>\n",
       "      <td>77.0</td>\n",
       "      <td>46.5</td>\n",
       "      <td>58.0</td>\n",
       "      <td>44.0</td>\n",
       "    </tr>\n",
       "    <tr>\n",
       "      <th>26</th>\n",
       "      <td>168.0</td>\n",
       "      <td>56.0</td>\n",
       "      <td>37.5</td>\n",
       "      <td>70.5</td>\n",
       "      <td>48.0</td>\n",
       "      <td>60.0</td>\n",
       "      <td>40.0</td>\n",
       "    </tr>\n",
       "  </tbody>\n",
       "</table>\n",
       "</div>"
      ],
      "text/plain": [
       "    Estatura  Peso   Pie  Brazo  Espalda  Craneo  Rodilla\n",
       "22     155.0  53.0  36.0   67.0     43.0    56.0     38.0\n",
       "23     189.0  87.0  45.0   82.0     53.0    61.0     52.0\n",
       "24     170.0  70.0  38.0   73.0     45.0    56.0     43.0\n",
       "25     170.0  67.0  40.0   77.0     46.5    58.0     44.0\n",
       "26     168.0  56.0  37.5   70.5     48.0    60.0     40.0"
      ]
     },
     "execution_count": 2,
     "metadata": {},
     "output_type": "execute_result"
    }
   ],
   "source": [
    "cols_headers = \"Estatura Peso Pie Brazo Espalda Craneo Rodilla\".split()\n",
    "df = pd.read_csv('./Datos1F.txt', names=cols_headers)\n",
    "df.tail()"
   ]
  },
  {
   "cell_type": "code",
   "execution_count": 3,
   "metadata": {},
   "outputs": [
    {
     "data": {
      "text/html": [
       "<div>\n",
       "<style scoped>\n",
       "    .dataframe tbody tr th:only-of-type {\n",
       "        vertical-align: middle;\n",
       "    }\n",
       "\n",
       "    .dataframe tbody tr th {\n",
       "        vertical-align: top;\n",
       "    }\n",
       "\n",
       "    .dataframe thead th {\n",
       "        text-align: right;\n",
       "    }\n",
       "</style>\n",
       "<table border=\"1\" class=\"dataframe\">\n",
       "  <thead>\n",
       "    <tr style=\"text-align: right;\">\n",
       "      <th></th>\n",
       "      <th>Estatura</th>\n",
       "      <th>Peso</th>\n",
       "      <th>Pie</th>\n",
       "      <th>Brazo</th>\n",
       "      <th>Espalda</th>\n",
       "      <th>Craneo</th>\n",
       "      <th>Rodilla</th>\n",
       "    </tr>\n",
       "  </thead>\n",
       "  <tbody>\n",
       "    <tr>\n",
       "      <th>count</th>\n",
       "      <td>27.000000</td>\n",
       "      <td>27.000000</td>\n",
       "      <td>27.000000</td>\n",
       "      <td>27.000000</td>\n",
       "      <td>27.000000</td>\n",
       "      <td>27.000000</td>\n",
       "      <td>27.000000</td>\n",
       "    </tr>\n",
       "    <tr>\n",
       "      <th>mean</th>\n",
       "      <td>168.777778</td>\n",
       "      <td>63.888889</td>\n",
       "      <td>38.981481</td>\n",
       "      <td>73.462963</td>\n",
       "      <td>45.851852</td>\n",
       "      <td>57.240741</td>\n",
       "      <td>43.074074</td>\n",
       "    </tr>\n",
       "    <tr>\n",
       "      <th>std</th>\n",
       "      <td>10.195524</td>\n",
       "      <td>12.801242</td>\n",
       "      <td>2.863838</td>\n",
       "      <td>4.957368</td>\n",
       "      <td>4.021134</td>\n",
       "      <td>1.841667</td>\n",
       "      <td>3.149187</td>\n",
       "    </tr>\n",
       "    <tr>\n",
       "      <th>min</th>\n",
       "      <td>152.000000</td>\n",
       "      <td>43.000000</td>\n",
       "      <td>34.000000</td>\n",
       "      <td>66.000000</td>\n",
       "      <td>36.000000</td>\n",
       "      <td>54.000000</td>\n",
       "      <td>38.000000</td>\n",
       "    </tr>\n",
       "    <tr>\n",
       "      <th>25%</th>\n",
       "      <td>160.000000</td>\n",
       "      <td>52.000000</td>\n",
       "      <td>36.000000</td>\n",
       "      <td>69.500000</td>\n",
       "      <td>43.500000</td>\n",
       "      <td>56.000000</td>\n",
       "      <td>41.000000</td>\n",
       "    </tr>\n",
       "    <tr>\n",
       "      <th>50%</th>\n",
       "      <td>168.000000</td>\n",
       "      <td>65.000000</td>\n",
       "      <td>39.000000</td>\n",
       "      <td>73.000000</td>\n",
       "      <td>46.000000</td>\n",
       "      <td>57.000000</td>\n",
       "      <td>43.000000</td>\n",
       "    </tr>\n",
       "    <tr>\n",
       "      <th>75%</th>\n",
       "      <td>177.000000</td>\n",
       "      <td>73.500000</td>\n",
       "      <td>41.000000</td>\n",
       "      <td>76.500000</td>\n",
       "      <td>48.000000</td>\n",
       "      <td>58.500000</td>\n",
       "      <td>44.500000</td>\n",
       "    </tr>\n",
       "    <tr>\n",
       "      <th>max</th>\n",
       "      <td>189.000000</td>\n",
       "      <td>91.000000</td>\n",
       "      <td>45.000000</td>\n",
       "      <td>83.000000</td>\n",
       "      <td>53.000000</td>\n",
       "      <td>61.000000</td>\n",
       "      <td>52.000000</td>\n",
       "    </tr>\n",
       "  </tbody>\n",
       "</table>\n",
       "</div>"
      ],
      "text/plain": [
       "         Estatura       Peso        Pie      Brazo    Espalda     Craneo  \\\n",
       "count   27.000000  27.000000  27.000000  27.000000  27.000000  27.000000   \n",
       "mean   168.777778  63.888889  38.981481  73.462963  45.851852  57.240741   \n",
       "std     10.195524  12.801242   2.863838   4.957368   4.021134   1.841667   \n",
       "min    152.000000  43.000000  34.000000  66.000000  36.000000  54.000000   \n",
       "25%    160.000000  52.000000  36.000000  69.500000  43.500000  56.000000   \n",
       "50%    168.000000  65.000000  39.000000  73.000000  46.000000  57.000000   \n",
       "75%    177.000000  73.500000  41.000000  76.500000  48.000000  58.500000   \n",
       "max    189.000000  91.000000  45.000000  83.000000  53.000000  61.000000   \n",
       "\n",
       "         Rodilla  \n",
       "count  27.000000  \n",
       "mean   43.074074  \n",
       "std     3.149187  \n",
       "min    38.000000  \n",
       "25%    41.000000  \n",
       "50%    43.000000  \n",
       "75%    44.500000  \n",
       "max    52.000000  "
      ]
     },
     "execution_count": 3,
     "metadata": {},
     "output_type": "execute_result"
    }
   ],
   "source": [
    "df.describe()"
   ]
  },
  {
   "cell_type": "code",
   "execution_count": 4,
   "metadata": {},
   "outputs": [],
   "source": [
    "lm = smf.ols('Estatura~Peso', df)\n",
    "lm_fit = lm.fit()"
   ]
  },
  {
   "cell_type": "code",
   "execution_count": 5,
   "metadata": {},
   "outputs": [
    {
     "name": "stdout",
     "output_type": "stream",
     "text": [
      "                            OLS Regression Results                            \n",
      "==============================================================================\n",
      "Dep. Variable:               Estatura   R-squared:                       0.689\n",
      "Model:                            OLS   Adj. R-squared:                  0.677\n",
      "Method:                 Least Squares   F-statistic:                     55.46\n",
      "Date:                Fri, 29 Apr 2022   Prob (F-statistic):           8.45e-08\n",
      "Time:                        21:38:22   Log-Likelihood:                -84.714\n",
      "No. Observations:                  27   AIC:                             173.4\n",
      "Df Residuals:                      25   BIC:                             176.0\n",
      "Df Model:                           1                                         \n",
      "Covariance Type:            nonrobust                                         \n",
      "==============================================================================\n",
      "                 coef    std err          t      P>|t|      [0.025      0.975]\n",
      "------------------------------------------------------------------------------\n",
      "Intercept    126.5317      5.781     21.887      0.000     114.625     138.438\n",
      "Peso           0.6612      0.089      7.447      0.000       0.478       0.844\n",
      "==============================================================================\n",
      "Omnibus:                        1.982   Durbin-Watson:                   2.099\n",
      "Prob(Omnibus):                  0.371   Jarque-Bera (JB):                1.608\n",
      "Skew:                          -0.580   Prob(JB):                        0.448\n",
      "Kurtosis:                       2.711   Cond. No.                         338.\n",
      "==============================================================================\n",
      "\n",
      "Notes:\n",
      "[1] Standard Errors assume that the covariance matrix of the errors is correctly specified.\n"
     ]
    }
   ],
   "source": [
    "print(lm_fit.summary())"
   ]
  },
  {
   "cell_type": "markdown",
   "metadata": {},
   "source": [
    "#### Conclusión\n",
    "Con los datos que acabó de arrojar statsmodels se concluye que la recta de regresión es:"
   ]
  },
  {
   "cell_type": "markdown",
   "metadata": {},
   "source": [
    "$$\n",
    "Y = 126.5317 + 0.6612X\n",
    "$$\n",
    "donde $Y$ es la estatura y $X$ el peso"
   ]
  },
  {
   "cell_type": "code",
   "execution_count": 6,
   "metadata": {},
   "outputs": [
    {
     "data": {
      "image/png": "[encoded data removed]",
      "text/plain": [
       "<Figure size 432x288 with 1 Axes>"
      ]
     },
     "metadata": {
      "needs_background": "light"
     },
     "output_type": "display_data"
    }
   ],
   "source": [
    "xx= np.linspace(df['Peso'].min(), df['Peso'].max())\n",
    "yy = 126.5317 + 0.6612*xx\n",
    "fig = plt.plot(df['Peso'], df['Estatura'],'o',xx,yy)"
   ]
  },
  {
   "cell_type": "markdown",
   "metadata": {},
   "source": [
    "Otra forma de calcular los betas es usando matrices"
   ]
  },
  {
   "cell_type": "code",
   "execution_count": 7,
   "metadata": {},
   "outputs": [
    {
     "data": {
      "text/plain": [
       "array([126.53173734,   0.66124237])"
      ]
     },
     "execution_count": 7,
     "metadata": {},
     "output_type": "execute_result"
    }
   ],
   "source": [
    "Y = df['Estatura']\n",
    "df['Ones'] = 1\n",
    "X=df[['Ones','Peso']]\n",
    "betas = inv(X.T @ X) @ (X.T @ Y)\n",
    "betas"
   ]
  },
  {
   "cell_type": "markdown",
   "metadata": {},
   "source": [
    "Los coeficientes encontrados son iguales que los hallados por el modelo de statsmodels"
   ]
  },
  {
   "cell_type": "markdown",
   "metadata": {},
   "source": [
    "## Cálculo de los errores de estimación de los $\\beta$"
   ]
  },
  {
   "cell_type": "markdown",
   "metadata": {},
   "source": [
    "$$\n",
    "V(\\hat{\\beta}_0) = C_{00}\\sigma^2\n",
    "$$\n",
    "$$\n",
    "V(\\hat{\\beta}_1) = C_{11}\\sigma^2\n",
    "$$\n",
    "donde $C_{ii}$ es el elemento de la fila $i$ y columna $i$ de la matriz $(X^TX)^{-1}$\n",
    "\n",
    "Para estimar $\\sigma^2$ se usa una función de los datos muestrales. En este caso:"
   ]
  },
  {
   "cell_type": "markdown",
   "metadata": {},
   "source": [
    "$$\n",
    "\\sigma^2=\\frac{SEE}{(n-2)}\n",
    "$$\n",
    "donde \n",
    "$$\n",
    "SSE = Y^TY-\\beta^TX^TY\n",
    "$$"
   ]
  },
  {
   "cell_type": "code",
   "execution_count": 8,
   "metadata": {},
   "outputs": [
    {
     "data": {
      "text/plain": [
       "33.58905961501412"
      ]
     },
     "execution_count": 8,
     "metadata": {},
     "output_type": "execute_result"
    }
   ],
   "source": [
    "SSE = Y.T @ Y - betas.T @ X.T @ Y\n",
    "n=len(Y)\n",
    "S2=SSE/(n-2)\n",
    "S2"
   ]
  },
  {
   "cell_type": "code",
   "execution_count": 9,
   "metadata": {},
   "outputs": [
    {
     "data": {
      "text/plain": [
       "5.781256064849965"
      ]
     },
     "execution_count": 9,
     "metadata": {},
     "output_type": "execute_result"
    }
   ],
   "source": [
    "# Errores en la estimación de los coeficientes betas\n",
    "P = inv(X.T @ X)\n",
    "\n",
    "C_00 = P[0,0]\n",
    "C_11 = P[1,1]\n",
    "\n",
    "var_b0 = C_00 * S2\n",
    "var_b1 = C_11 * S2\n",
    "\n",
    "# El error es la raiz cuadrada de la varianza del estimador\n",
    "err0 = np.sqrt(var_b0)\n",
    "err1 = np.sqrt(var_b1)\n",
    "\n",
    "err0"
   ]
  },
  {
   "cell_type": "code",
   "execution_count": 10,
   "metadata": {},
   "outputs": [
    {
     "data": {
      "text/plain": [
       "0.08878920007608997"
      ]
     },
     "execution_count": 10,
     "metadata": {},
     "output_type": "execute_result"
    }
   ],
   "source": [
    "err1"
   ]
  },
  {
   "cell_type": "markdown",
   "metadata": {},
   "source": [
    "Por statsmodels se obtuvieron los mismos resultados!"
   ]
  },
  {
   "cell_type": "markdown",
   "metadata": {},
   "source": [
    "## Intervalos de confianza\n",
    "\n",
    "$$\n",
    "\\left[\\hat{\\beta}_i - t_{\\alpha/2} S\\sqrt{C_{ii}} , \\quad \\hat{\\beta}_i + t_{\\alpha/2} S\\sqrt{C_{ii}}\\right]\n",
    "$$"
   ]
  },
  {
   "cell_type": "code",
   "execution_count": 11,
   "metadata": {},
   "outputs": [
    {
     "data": {
      "text/plain": [
       "(114.6250175900689, 138.4384570878635)"
      ]
     },
     "execution_count": 11,
     "metadata": {},
     "output_type": "execute_result"
    }
   ],
   "source": [
    "alpha = 1 - 0.95\n",
    "lower_bound_b0 = betas[0] - t.ppf(0.975, df = len(Y) - len(betas)) * np.sqrt(var_b0)\n",
    "upper_bound_b0 = betas[0] + t.ppf(0.975, df = len(Y) - len(betas)) * np.sqrt(var_b0)\n",
    "lower_bound_b0, upper_bound_b0"
   ]
  },
  {
   "cell_type": "code",
   "execution_count": 12,
   "metadata": {},
   "outputs": [
    {
     "data": {
      "text/plain": [
       "(0.47837759146091907, 0.8441071527105851)"
      ]
     },
     "execution_count": 12,
     "metadata": {},
     "output_type": "execute_result"
    }
   ],
   "source": [
    "lower_bound_b1 = betas[1] - t.ppf(0.975, df = len(Y) - len(betas)) * np.sqrt(var_b1)\n",
    "upper_bound_b1 = betas[1] + t.ppf(0.975, df = len(Y) - len(betas)) * np.sqrt(var_b1)\n",
    "lower_bound_b1, upper_bound_b1"
   ]
  },
  {
   "cell_type": "markdown",
   "metadata": {},
   "source": [
    "Los intervalos de confianza son iguales que los obtenidos por statsmodels.\n",
    "\n",
    "Ahora vamos a calcular el valor $P$ de la prueba de hipótesis"
   ]
  },
  {
   "cell_type": "markdown",
   "metadata": {},
   "source": [
    "$$\n",
    "H_0 : \\beta_i = 0\n",
    "$$\n",
    "$$\n",
    "H_a : \\beta_i \\neq 0\n",
    "$$"
   ]
  },
  {
   "cell_type": "markdown",
   "metadata": {},
   "source": [
    "Necesitamos un test para rechazar la hipótesis nula\n",
    "\n",
    "$$\n",
    "T = \\frac{\\hat{\\beta}_i - \\beta_{i0}}{S\\sqrt{C_{ii}}}\n",
    "$$\n",
    "$$\n",
    "\\beta_{i0} = 0\n",
    "$$"
   ]
  },
  {
   "cell_type": "code",
   "execution_count": 13,
   "metadata": {},
   "outputs": [
    {
     "data": {
      "text/plain": [
       "(21.886547822761063, 7.447328858904969)"
      ]
     },
     "execution_count": 13,
     "metadata": {},
     "output_type": "execute_result"
    }
   ],
   "source": [
    "T_0 = betas[0]/(np.sqrt(var_b0))\n",
    "T_1 = betas[1]/(np.sqrt(var_b1))\n",
    "T_0, T_1"
   ]
  },
  {
   "cell_type": "code",
   "execution_count": 14,
   "metadata": {},
   "outputs": [
    {
     "data": {
      "text/plain": [
       "2.059538552753294"
      ]
     },
     "execution_count": 14,
     "metadata": {},
     "output_type": "execute_result"
    }
   ],
   "source": [
    "t.ppf(0.975, df = len(Y)-len(betas))"
   ]
  },
  {
   "cell_type": "markdown",
   "metadata": {},
   "source": [
    "Con $\\alpha = 5\\% $ se rechaza $H_0$.\n",
    "\n",
    "Calculemos el nivel de significancia alcanzado, es decir, el p-value, que equivale a encontrar el área bajo la curva de la distribución de probabilidad suponiendo que la hipótesis nula $H_0$ es verdadera.\n",
    "\n",
    "El valor del estádistico de prueba calculado con los datos observados fue de $T_0 = 21.8865$ y $T_1=7.4473$"
   ]
  },
  {
   "cell_type": "code",
   "execution_count": 15,
   "metadata": {},
   "outputs": [
    {
     "data": {
      "text/plain": [
       "(3.994404174819729e-18, 4.223976154920601e-08)"
      ]
     },
     "execution_count": 15,
     "metadata": {},
     "output_type": "execute_result"
    }
   ],
   "source": [
    "p_value_0 = t.cdf(-T_0, df=len(Y) - len(betas))\n",
    "p_value_1 = t.cdf(-T_1, df=len(Y) - len(betas))\n",
    "p_value_0, p_value_1"
   ]
  },
  {
   "cell_type": "markdown",
   "metadata": {},
   "source": [
    "Para estos valores, siempre se rechaza $H_0$"
   ]
  },
  {
   "cell_type": "code",
   "execution_count": null,
   "metadata": {},
   "outputs": [],
   "source": []
  }
 ],
 "metadata": {
  "interpreter": {
   "hash": "948d73eb6dfda2e804d788ca8e9f193cc8a7762f6fd3fe59d9c3fe882d54f9f4"
  },
  "kernelspec": {
   "display_name": "Python 3.9.7 ('base')",
   "language": "python",
   "name": "python3"
  },
  "language_info": {
   "codemirror_mode": {
    "name": "ipython",
    "version": 3
   },
   "file_extension": ".py",
   "mimetype": "text/x-python",
   "name": "python",
   "nbconvert_exporter": "python",
   "pygments_lexer": "ipython3",
   "version": "3.9.7"
  },
  "orig_nbformat": 4
 },
 "nbformat": 4,
 "nbformat_minor": 2
}
