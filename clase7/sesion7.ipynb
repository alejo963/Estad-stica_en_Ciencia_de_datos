{
 "cells": [
  {
   "cell_type": "code",
   "execution_count": 1,
   "metadata": {},
   "outputs": [],
   "source": [
    "import pandas as pd\n",
    "import numpy as np\n",
    "import numpy.linalg as la\n",
    "import matplotlib.pyplot as plt\n",
    "from sklearn.preprocessing import StandardScaler\n",
    "from sklearn.model_selection import train_test_split\n",
    "from sklearn.linear_model import LinearRegression, Ridge, Lasso"
   ]
  },
  {
   "cell_type": "code",
   "execution_count": 2,
   "metadata": {},
   "outputs": [],
   "source": [
    "X = np.array([\n",
    "    [1, 1, 0, 0, 1, 1],\n",
    "    [1, 1, 1, 0, 0, 1],\n",
    "    [1, 0, 0, 1, 0, 1],\n",
    "    [1, 0, 0, 1, 0, 1],\n",
    "    [1, 0, 0, 1, 1, 1],\n",
    "])"
   ]
  },
  {
   "cell_type": "code",
   "execution_count": 3,
   "metadata": {},
   "outputs": [],
   "source": [
    "def sokal(x1, x2):\n",
    "    if len(x1) != len(x2):\n",
    "        raise Exception(\"Vectors must be of equal length\")\n",
    "    ad = 0\n",
    "    m = len(x1)\n",
    "    for i in range(0, m):\n",
    "        if x1[i] == x2[i]:\n",
    "            ad += 1\n",
    "    return ad / m"
   ]
  },
  {
   "cell_type": "code",
   "execution_count": 4,
   "metadata": {},
   "outputs": [],
   "source": [
    "def jaccard(x1, x2):\n",
    "    if len(x1) != len(x2):\n",
    "        raise Exception(\"Vectors must be of equal length\")\n",
    "    bc = 0\n",
    "    a = 0\n",
    "    m = len(x1)\n",
    "    for i in range(0, m):\n",
    "        if x1[i] != x2[i]:\n",
    "            bc += 1\n",
    "        if x1[i] == 1 & x1[i] == x2[i] & x2[i]==1:\n",
    "            a += 1\n",
    "    return a / (a + bc)"
   ]
  },
  {
   "cell_type": "code",
   "execution_count": 5,
   "metadata": {},
   "outputs": [],
   "source": [
    "def simil_matrix(X, simil=\"sokal\"):\n",
    "    s = sokal if simil == \"sokal\" else jaccard\n",
    "    n = X.shape[0]\n",
    "    S = np.zeros((n,n))\n",
    "    for i in range(0, n):\n",
    "        for j in range (0, n):\n",
    "            S[i][j] = s(X[i], X[j])\n",
    "    return S"
   ]
  },
  {
   "cell_type": "code",
   "execution_count": 6,
   "metadata": {},
   "outputs": [
    {
     "data": {
      "text/plain": [
       "array([[1.        , 0.66666667, 0.5       , 0.5       , 0.66666667],\n",
       "       [0.66666667, 1.        , 0.5       , 0.5       , 0.33333333],\n",
       "       [0.5       , 0.5       , 1.        , 1.        , 0.83333333],\n",
       "       [0.5       , 0.5       , 1.        , 1.        , 0.83333333],\n",
       "       [0.66666667, 0.33333333, 0.83333333, 0.83333333, 1.        ]])"
      ]
     },
     "execution_count": 6,
     "metadata": {},
     "output_type": "execute_result"
    }
   ],
   "source": [
    "S_sokal = simil_matrix(X)\n",
    "S_sokal"
   ]
  },
  {
   "cell_type": "code",
   "execution_count": 7,
   "metadata": {},
   "outputs": [
    {
     "data": {
      "text/plain": [
       "array([[1.        , 0.6       , 0.4       , 0.4       , 0.6       ],\n",
       "       [0.6       , 1.        , 0.4       , 0.4       , 0.33333333],\n",
       "       [0.4       , 0.4       , 1.        , 1.        , 0.75      ],\n",
       "       [0.4       , 0.4       , 1.        , 1.        , 0.75      ],\n",
       "       [0.6       , 0.33333333, 0.75      , 0.75      , 1.        ]])"
      ]
     },
     "execution_count": 7,
     "metadata": {},
     "output_type": "execute_result"
    }
   ],
   "source": [
    "S_jaccard = simil_matrix(X, 'jaccard')\n",
    "S_jaccard"
   ]
  },
  {
   "cell_type": "code",
   "execution_count": 8,
   "metadata": {},
   "outputs": [],
   "source": [
    "def distance_matrix(S):\n",
    "    D2 = 2 * np.ones((S.shape[0], S.shape[0]))\n",
    "    D2 = D2 - 2 * S\n",
    "    return D2"
   ]
  },
  {
   "cell_type": "code",
   "execution_count": 9,
   "metadata": {},
   "outputs": [
    {
     "data": {
      "text/plain": [
       "array([[0.        , 0.66666667, 1.        , 1.        , 0.66666667],\n",
       "       [0.66666667, 0.        , 1.        , 1.        , 1.33333333],\n",
       "       [1.        , 1.        , 0.        , 0.        , 0.33333333],\n",
       "       [1.        , 1.        , 0.        , 0.        , 0.33333333],\n",
       "       [0.66666667, 1.33333333, 0.33333333, 0.33333333, 0.        ]])"
      ]
     },
     "execution_count": 9,
     "metadata": {},
     "output_type": "execute_result"
    }
   ],
   "source": [
    "D2 = distance_matrix(S_sokal)\n",
    "D2"
   ]
  },
  {
   "cell_type": "code",
   "execution_count": 10,
   "metadata": {},
   "outputs": [
    {
     "data": {
      "text/plain": [
       "array([[0.        , 0.8       , 1.2       , 1.2       , 0.8       ],\n",
       "       [0.8       , 0.        , 1.2       , 1.2       , 1.33333333],\n",
       "       [1.2       , 1.2       , 0.        , 0.        , 0.5       ],\n",
       "       [1.2       , 1.2       , 0.        , 0.        , 0.5       ],\n",
       "       [0.8       , 1.33333333, 0.5       , 0.5       , 0.        ]])"
      ]
     },
     "execution_count": 10,
     "metadata": {},
     "output_type": "execute_result"
    }
   ],
   "source": [
    "distance_matrix(S_jaccard)"
   ]
  },
  {
   "cell_type": "code",
   "execution_count": 11,
   "metadata": {},
   "outputs": [
    {
     "data": {
      "text/plain": [
       "array([ 4.48,  1.3 ,  0.03,  0.  , -0.  ])"
      ]
     },
     "execution_count": 11,
     "metadata": {},
     "output_type": "execute_result"
    }
   ],
   "source": [
    "D2_stand = StandardScaler().fit_transform(D2)\n",
    "covariance = np.cov(D2_stand)\n",
    "eig_values, eig_vectors  =la.eig(covariance)\n",
    "eig_values.round(2)"
   ]
  },
  {
   "cell_type": "code",
   "execution_count": 12,
   "metadata": {},
   "outputs": [
    {
     "data": {
      "text/plain": [
       "array([[-0.5 , -0.58, -0.47, -0.44, -0.05],\n",
       "       [-0.59,  0.57,  0.36, -0.44, -0.05],\n",
       "       [ 0.39,  0.24, -0.29, -0.35,  0.65],\n",
       "       [ 0.39,  0.24, -0.29, -0.53, -0.76],\n",
       "       [ 0.3 , -0.48,  0.69, -0.44, -0.05]])"
      ]
     },
     "execution_count": 12,
     "metadata": {},
     "output_type": "execute_result"
    }
   ],
   "source": [
    "eig_vectors.round(2)"
   ]
  },
  {
   "cell_type": "code",
   "execution_count": 13,
   "metadata": {},
   "outputs": [
    {
     "data": {
      "text/plain": [
       "(0.7717457629062912, 0.223593598105929, 0.0046606389877797555)"
      ]
     },
     "execution_count": 13,
     "metadata": {},
     "output_type": "execute_result"
    }
   ],
   "source": [
    "eig_values[0]/eig_values.sum(), eig_values[1]/eig_values.sum(), eig_values[2]/eig_values.sum()"
   ]
  },
  {
   "cell_type": "code",
   "execution_count": 14,
   "metadata": {},
   "outputs": [
    {
     "data": {
      "text/plain": [
       "0.9953393610122201"
      ]
     },
     "execution_count": 14,
     "metadata": {},
     "output_type": "execute_result"
    }
   ],
   "source": [
    "eig_values[0]/eig_values.sum() + eig_values[1]/eig_values.sum()"
   ]
  },
  {
   "cell_type": "code",
   "execution_count": 15,
   "metadata": {},
   "outputs": [
    {
     "data": {
      "text/html": [
       "<div>\n",
       "<style scoped>\n",
       "    .dataframe tbody tr th:only-of-type {\n",
       "        vertical-align: middle;\n",
       "    }\n",
       "\n",
       "    .dataframe tbody tr th {\n",
       "        vertical-align: top;\n",
       "    }\n",
       "\n",
       "    .dataframe thead th {\n",
       "        text-align: right;\n",
       "    }\n",
       "</style>\n",
       "<table border=\"1\" class=\"dataframe\">\n",
       "  <thead>\n",
       "    <tr style=\"text-align: right;\">\n",
       "      <th></th>\n",
       "      <th>Z1</th>\n",
       "      <th>Z2</th>\n",
       "    </tr>\n",
       "  </thead>\n",
       "  <tbody>\n",
       "    <tr>\n",
       "      <th>0</th>\n",
       "      <td>2.104403</td>\n",
       "      <td>1.318451</td>\n",
       "    </tr>\n",
       "    <tr>\n",
       "      <th>1</th>\n",
       "      <td>2.509368</td>\n",
       "      <td>-1.273840</td>\n",
       "    </tr>\n",
       "    <tr>\n",
       "      <th>2</th>\n",
       "      <td>-1.663734</td>\n",
       "      <td>-0.566450</td>\n",
       "    </tr>\n",
       "    <tr>\n",
       "      <th>3</th>\n",
       "      <td>-1.663734</td>\n",
       "      <td>-0.566450</td>\n",
       "    </tr>\n",
       "    <tr>\n",
       "      <th>4</th>\n",
       "      <td>-1.286304</td>\n",
       "      <td>1.088288</td>\n",
       "    </tr>\n",
       "  </tbody>\n",
       "</table>\n",
       "</div>"
      ],
      "text/plain": [
       "         Z1        Z2\n",
       "0  2.104403  1.318451\n",
       "1  2.509368 -1.273840\n",
       "2 -1.663734 -0.566450\n",
       "3 -1.663734 -0.566450\n",
       "4 -1.286304  1.088288"
      ]
     },
     "execution_count": 15,
     "metadata": {},
     "output_type": "execute_result"
    }
   ],
   "source": [
    "new_df = []\n",
    "for index, row in enumerate(D2_stand):\n",
    "    new_df.append([np.dot(eig_vectors[:,0], row), np.dot(eig_vectors[:,1], row),])\n",
    "new_df = pd.DataFrame(np.array(new_df), columns=\"Z1 Z2\".split())\n",
    "new_df.tail()"
   ]
  },
  {
   "cell_type": "code",
   "execution_count": 16,
   "metadata": {},
   "outputs": [
    {
     "data": {
      "image/png": "[encoded data removed]",
      "text/plain": [
       "<Figure size 432x288 with 1 Axes>"
      ]
     },
     "metadata": {
      "needs_background": "light"
     },
     "output_type": "display_data"
    }
   ],
   "source": [
    "plt.plot(new_df.Z1, new_df.Z2, 'o')\n",
    "plt.show()"
   ]
  },
  {
   "cell_type": "markdown",
   "metadata": {},
   "source": [
    "## Regularización"
   ]
  },
  {
   "cell_type": "code",
   "execution_count": 17,
   "metadata": {},
   "outputs": [
    {
     "data": {
      "text/html": [
       "<div>\n",
       "<style scoped>\n",
       "    .dataframe tbody tr th:only-of-type {\n",
       "        vertical-align: middle;\n",
       "    }\n",
       "\n",
       "    .dataframe tbody tr th {\n",
       "        vertical-align: top;\n",
       "    }\n",
       "\n",
       "    .dataframe thead th {\n",
       "        text-align: right;\n",
       "    }\n",
       "</style>\n",
       "<table border=\"1\" class=\"dataframe\">\n",
       "  <thead>\n",
       "    <tr style=\"text-align: right;\">\n",
       "      <th></th>\n",
       "      <th>0</th>\n",
       "      <th>1</th>\n",
       "      <th>2</th>\n",
       "      <th>3</th>\n",
       "      <th>4</th>\n",
       "      <th>5</th>\n",
       "      <th>6</th>\n",
       "      <th>7</th>\n",
       "      <th>8</th>\n",
       "      <th>9</th>\n",
       "      <th>...</th>\n",
       "      <th>40</th>\n",
       "      <th>41</th>\n",
       "      <th>42</th>\n",
       "      <th>43</th>\n",
       "      <th>44</th>\n",
       "      <th>45</th>\n",
       "      <th>46</th>\n",
       "      <th>47</th>\n",
       "      <th>48</th>\n",
       "      <th>49</th>\n",
       "    </tr>\n",
       "  </thead>\n",
       "  <tbody>\n",
       "    <tr>\n",
       "      <th>0</th>\n",
       "      <td>0.715617</td>\n",
       "      <td>0.420356</td>\n",
       "      <td>-1.128431</td>\n",
       "      <td>0.096898</td>\n",
       "      <td>-0.281453</td>\n",
       "      <td>0.998715</td>\n",
       "      <td>1.127674</td>\n",
       "      <td>-0.097352</td>\n",
       "      <td>0.593662</td>\n",
       "      <td>-0.547923</td>\n",
       "      <td>...</td>\n",
       "      <td>0.144221</td>\n",
       "      <td>0.284631</td>\n",
       "      <td>1.566366</td>\n",
       "      <td>-1.225861</td>\n",
       "      <td>0.287622</td>\n",
       "      <td>-0.821364</td>\n",
       "      <td>-0.053162</td>\n",
       "      <td>1.044272</td>\n",
       "      <td>0.908716</td>\n",
       "      <td>-0.004769</td>\n",
       "    </tr>\n",
       "    <tr>\n",
       "      <th>1</th>\n",
       "      <td>-1.628208</td>\n",
       "      <td>-1.510449</td>\n",
       "      <td>0.527613</td>\n",
       "      <td>-0.845558</td>\n",
       "      <td>-0.618104</td>\n",
       "      <td>1.354870</td>\n",
       "      <td>-0.859435</td>\n",
       "      <td>-0.407390</td>\n",
       "      <td>-0.694202</td>\n",
       "      <td>0.742492</td>\n",
       "      <td>...</td>\n",
       "      <td>-1.279415</td>\n",
       "      <td>0.836232</td>\n",
       "      <td>0.930348</td>\n",
       "      <td>-0.833588</td>\n",
       "      <td>-0.631738</td>\n",
       "      <td>0.176832</td>\n",
       "      <td>0.241163</td>\n",
       "      <td>0.447367</td>\n",
       "      <td>-0.417498</td>\n",
       "      <td>-0.400634</td>\n",
       "    </tr>\n",
       "    <tr>\n",
       "      <th>2</th>\n",
       "      <td>-0.332262</td>\n",
       "      <td>-1.476780</td>\n",
       "      <td>2.527841</td>\n",
       "      <td>0.745008</td>\n",
       "      <td>0.277968</td>\n",
       "      <td>0.648457</td>\n",
       "      <td>-0.110013</td>\n",
       "      <td>-0.233305</td>\n",
       "      <td>1.432093</td>\n",
       "      <td>-0.707001</td>\n",
       "      <td>...</td>\n",
       "      <td>0.625368</td>\n",
       "      <td>0.125197</td>\n",
       "      <td>-0.070570</td>\n",
       "      <td>-0.345752</td>\n",
       "      <td>-1.371680</td>\n",
       "      <td>1.712256</td>\n",
       "      <td>0.521146</td>\n",
       "      <td>0.633301</td>\n",
       "      <td>-0.655274</td>\n",
       "      <td>-0.632881</td>\n",
       "    </tr>\n",
       "    <tr>\n",
       "      <th>3</th>\n",
       "      <td>1.365216</td>\n",
       "      <td>0.925202</td>\n",
       "      <td>-0.148038</td>\n",
       "      <td>0.512592</td>\n",
       "      <td>0.117943</td>\n",
       "      <td>0.830771</td>\n",
       "      <td>1.655276</td>\n",
       "      <td>0.475056</td>\n",
       "      <td>1.638397</td>\n",
       "      <td>1.698356</td>\n",
       "      <td>...</td>\n",
       "      <td>1.188035</td>\n",
       "      <td>0.983117</td>\n",
       "      <td>-1.465421</td>\n",
       "      <td>-0.073310</td>\n",
       "      <td>1.925396</td>\n",
       "      <td>-0.610161</td>\n",
       "      <td>0.753453</td>\n",
       "      <td>-0.726542</td>\n",
       "      <td>1.111777</td>\n",
       "      <td>1.520648</td>\n",
       "    </tr>\n",
       "    <tr>\n",
       "      <th>4</th>\n",
       "      <td>0.034371</td>\n",
       "      <td>-1.272456</td>\n",
       "      <td>-1.303074</td>\n",
       "      <td>-0.035136</td>\n",
       "      <td>-0.356276</td>\n",
       "      <td>0.264360</td>\n",
       "      <td>-0.995227</td>\n",
       "      <td>0.702526</td>\n",
       "      <td>0.623539</td>\n",
       "      <td>-0.120871</td>\n",
       "      <td>...</td>\n",
       "      <td>0.255573</td>\n",
       "      <td>0.712102</td>\n",
       "      <td>1.267708</td>\n",
       "      <td>0.871283</td>\n",
       "      <td>0.573161</td>\n",
       "      <td>-0.747545</td>\n",
       "      <td>-0.621450</td>\n",
       "      <td>1.438620</td>\n",
       "      <td>0.247732</td>\n",
       "      <td>-1.504739</td>\n",
       "    </tr>\n",
       "  </tbody>\n",
       "</table>\n",
       "<p>5 rows × 50 columns</p>\n",
       "</div>"
      ],
      "text/plain": [
       "         0         1         2         3         4         5         6   \\\n",
       "0  0.715617  0.420356 -1.128431  0.096898 -0.281453  0.998715  1.127674   \n",
       "1 -1.628208 -1.510449  0.527613 -0.845558 -0.618104  1.354870 -0.859435   \n",
       "2 -0.332262 -1.476780  2.527841  0.745008  0.277968  0.648457 -0.110013   \n",
       "3  1.365216  0.925202 -0.148038  0.512592  0.117943  0.830771  1.655276   \n",
       "4  0.034371 -1.272456 -1.303074 -0.035136 -0.356276  0.264360 -0.995227   \n",
       "\n",
       "         7         8         9   ...        40        41        42        43  \\\n",
       "0 -0.097352  0.593662 -0.547923  ...  0.144221  0.284631  1.566366 -1.225861   \n",
       "1 -0.407390 -0.694202  0.742492  ... -1.279415  0.836232  0.930348 -0.833588   \n",
       "2 -0.233305  1.432093 -0.707001  ...  0.625368  0.125197 -0.070570 -0.345752   \n",
       "3  0.475056  1.638397  1.698356  ...  1.188035  0.983117 -1.465421 -0.073310   \n",
       "4  0.702526  0.623539 -0.120871  ...  0.255573  0.712102  1.267708  0.871283   \n",
       "\n",
       "         44        45        46        47        48        49  \n",
       "0  0.287622 -0.821364 -0.053162  1.044272  0.908716 -0.004769  \n",
       "1 -0.631738  0.176832  0.241163  0.447367 -0.417498 -0.400634  \n",
       "2 -1.371680  1.712256  0.521146  0.633301 -0.655274 -0.632881  \n",
       "3  1.925396 -0.610161  0.753453 -0.726542  1.111777  1.520648  \n",
       "4  0.573161 -0.747545 -0.621450  1.438620  0.247732 -1.504739  \n",
       "\n",
       "[5 rows x 50 columns]"
      ]
     },
     "execution_count": 17,
     "metadata": {},
     "output_type": "execute_result"
    }
   ],
   "source": [
    "X = pd.read_csv('./../datos/Datos_X.csv', header = None)\n",
    "Y = pd.read_csv('./../datos/Datos_Y.csv', header = None)\n",
    "X.head()"
   ]
  },
  {
   "cell_type": "code",
   "execution_count": 18,
   "metadata": {},
   "outputs": [],
   "source": [
    "X_train, X_test, Y_train, Y_test = train_test_split(X, Y, train_size=0.5)"
   ]
  },
  {
   "cell_type": "markdown",
   "metadata": {},
   "source": [
    "## Calcular coeficientes de la regresión lineal simple"
   ]
  },
  {
   "cell_type": "code",
   "execution_count": 19,
   "metadata": {},
   "outputs": [],
   "source": [
    "lm = LinearRegression()\n",
    "lm_fit = lm.fit(X_train, Y_train)"
   ]
  },
  {
   "cell_type": "markdown",
   "metadata": {},
   "source": [
    "### Calcular el error de esta regresión"
   ]
  },
  {
   "cell_type": "code",
   "execution_count": 20,
   "metadata": {},
   "outputs": [],
   "source": [
    "def SSE(residuo):\n",
    "    return np.sum(residuo*residuo) "
   ]
  },
  {
   "cell_type": "code",
   "execution_count": 21,
   "metadata": {},
   "outputs": [],
   "source": [
    "residuo_train = lm_fit.predict(X_train) - Y_train"
   ]
  },
  {
   "cell_type": "code",
   "execution_count": 22,
   "metadata": {},
   "outputs": [
    {
     "data": {
      "text/plain": [
       "0    1.277084e-24\n",
       "dtype: float64"
      ]
     },
     "execution_count": 22,
     "metadata": {},
     "output_type": "execute_result"
    }
   ],
   "source": [
    "SSE(residuo_train)"
   ]
  },
  {
   "cell_type": "markdown",
   "metadata": {},
   "source": [
    " Este error es esencialmente cero. Esto puede ser porque hay más variables que puntos. El caso es que este modelo no se debe usar para hacer predicciones porque el error de testeo debe ser mayor que cero"
   ]
  },
  {
   "cell_type": "code",
   "execution_count": 23,
   "metadata": {},
   "outputs": [
    {
     "data": {
      "text/plain": [
       "0    253232.634016\n",
       "dtype: float64"
      ]
     },
     "execution_count": 23,
     "metadata": {},
     "output_type": "execute_result"
    }
   ],
   "source": [
    "residuo_test = lm_fit.predict(X_test) - Y_test\n",
    "SSE(residuo_test)"
   ]
  },
  {
   "cell_type": "markdown",
   "metadata": {},
   "source": [
    "#### Esta es la evidencia de que hay un sobreajuste en el modelo!"
   ]
  },
  {
   "cell_type": "markdown",
   "metadata": {},
   "source": [
    "Se puede también mirar el $R^2$ de los dos ajustes:"
   ]
  },
  {
   "cell_type": "code",
   "execution_count": 24,
   "metadata": {},
   "outputs": [
    {
     "data": {
      "text/plain": [
       "1.0"
      ]
     },
     "execution_count": 24,
     "metadata": {},
     "output_type": "execute_result"
    }
   ],
   "source": [
    "lm_fit.score(X_train, Y_train)"
   ]
  },
  {
   "cell_type": "code",
   "execution_count": 25,
   "metadata": {},
   "outputs": [
    {
     "data": {
      "text/plain": [
       "0.6841738189694071"
      ]
     },
     "execution_count": 25,
     "metadata": {},
     "output_type": "execute_result"
    }
   ],
   "source": [
    "lm_fit.score(X_test, Y_test)"
   ]
  },
  {
   "cell_type": "markdown",
   "metadata": {},
   "source": [
    "Vamos a aplicar regularización con el método de Ridge:\n",
    "\n",
    "$$\n",
    "L_{regression} + \\alpha ||\\beta||_2 ^2\n",
    "$$"
   ]
  },
  {
   "cell_type": "code",
   "execution_count": 26,
   "metadata": {},
   "outputs": [],
   "source": [
    "lm_ridge = Ridge(0.5)\n",
    "lm_ridge_fit = lm_ridge.fit(X_train, Y_train)"
   ]
  },
  {
   "cell_type": "code",
   "execution_count": 27,
   "metadata": {},
   "outputs": [
    {
     "data": {
      "text/plain": [
       "0    279.509648\n",
       "dtype: float64"
      ]
     },
     "execution_count": 27,
     "metadata": {},
     "output_type": "execute_result"
    }
   ],
   "source": [
    "residuo_ridge_train = Y_train - lm_ridge_fit.predict(X_train)\n",
    "SSE(residuo_ridge_train)"
   ]
  },
  {
   "cell_type": "markdown",
   "metadata": {},
   "source": [
    "El error de entrenamiento no dio cero"
   ]
  },
  {
   "cell_type": "code",
   "execution_count": 28,
   "metadata": {},
   "outputs": [
    {
     "data": {
      "text/plain": [
       "0    250600.654702\n",
       "dtype: float64"
      ]
     },
     "execution_count": 28,
     "metadata": {},
     "output_type": "execute_result"
    }
   ],
   "source": [
    "residuo_ridge_test = Y_test - lm_ridge_fit.predict(X_test)\n",
    "SSE(residuo_ridge_test)"
   ]
  },
  {
   "cell_type": "markdown",
   "metadata": {},
   "source": [
    "Muy alto todavía"
   ]
  },
  {
   "cell_type": "markdown",
   "metadata": {},
   "source": [
    "### Regularización Lasso"
   ]
  },
  {
   "cell_type": "code",
   "execution_count": 29,
   "metadata": {},
   "outputs": [],
   "source": [
    "lm_lasso = Lasso(0.5)\n",
    "lm_lasso_fit = lm_lasso.fit(X_train, Y_train)"
   ]
  },
  {
   "cell_type": "code",
   "execution_count": 30,
   "metadata": {},
   "outputs": [
    {
     "data": {
      "text/plain": [
       "102.9385062822598"
      ]
     },
     "execution_count": 30,
     "metadata": {},
     "output_type": "execute_result"
    }
   ],
   "source": [
    "residuo_lasso_train = Y_train.T - lm_lasso_fit.predict(X_train)\n",
    "SSE(np.array(residuo_lasso_train).T)"
   ]
  },
  {
   "cell_type": "code",
   "execution_count": 31,
   "metadata": {},
   "outputs": [
    {
     "data": {
      "text/plain": [
       "1127.164689839113"
      ]
     },
     "execution_count": 31,
     "metadata": {},
     "output_type": "execute_result"
    }
   ],
   "source": [
    "residuo_lasso_test = Y_test.T - lm_lasso_fit.predict(X_test)\n",
    "SSE(np.array(residuo_lasso_test).T)"
   ]
  },
  {
   "cell_type": "code",
   "execution_count": null,
   "metadata": {},
   "outputs": [],
   "source": []
  }
 ],
 "metadata": {
  "interpreter": {
   "hash": "a71a9e4fb054fff428071484f7faa898cb9ecb31a518fe88e3463da9af879578"
  },
  "kernelspec": {
   "display_name": "Python 3.9.7 ('base')",
   "language": "python",
   "name": "python3"
  },
  "language_info": {
   "codemirror_mode": {
    "name": "ipython",
    "version": 3
   },
   "file_extension": ".py",
   "mimetype": "text/x-python",
   "name": "python",
   "nbconvert_exporter": "python",
   "pygments_lexer": "ipython3",
   "version": "3.9.7"
  },
  "orig_nbformat": 4
 },
 "nbformat": 4,
 "nbformat_minor": 2
}
