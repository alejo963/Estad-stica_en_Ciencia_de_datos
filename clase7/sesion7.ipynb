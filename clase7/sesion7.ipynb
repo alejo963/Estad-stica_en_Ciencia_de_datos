{
 "cells": [
  {
   "cell_type": "code",
   "execution_count": 103,
   "metadata": {},
   "outputs": [],
   "source": [
    "import pandas as pd\n",
    "import numpy as np\n",
    "import numpy.linalg as la\n",
    "import matplotlib.pyplot as plt\n",
    "from sklearn.preprocessing import StandardScaler"
   ]
  },
  {
   "cell_type": "code",
   "execution_count": 3,
   "metadata": {},
   "outputs": [],
   "source": [
    "X = np.array([\n",
    "    [1, 1, 0, 0, 1, 1],\n",
    "    [1, 1, 1, 0, 0, 1],\n",
    "    [1, 0, 0, 1, 0, 1],\n",
    "    [1, 0, 0, 1, 0, 1],\n",
    "    [1, 0, 0, 1, 1, 1],\n",
    "])"
   ]
  },
  {
   "cell_type": "code",
   "execution_count": 12,
   "metadata": {},
   "outputs": [],
   "source": [
    "def sokal(x1, x2):\n",
    "    if len(x1) != len(x2):\n",
    "        raise Exception(\"Vectors must be of equal length\")\n",
    "    ad = 0\n",
    "    m = len(x1)\n",
    "    for i in range(0, m):\n",
    "        if x1[i] == x2[i]:\n",
    "            ad += 1\n",
    "    return ad / m"
   ]
  },
  {
   "cell_type": "code",
   "execution_count": 73,
   "metadata": {},
   "outputs": [],
   "source": [
    "def jaccard(x1, x2):\n",
    "    if len(x1) != len(x2):\n",
    "        raise Exception(\"Vectors must be of equal length\")\n",
    "    bc = 0\n",
    "    a = 0\n",
    "    m = len(x1)\n",
    "    for i in range(0, m):\n",
    "        if x1[i] != x2[i]:\n",
    "            bc += 1\n",
    "        if x1[i] == 1 & x1[i] == x2[i] & x2[i]==1:\n",
    "            a += 1\n",
    "    return a / (a + bc)"
   ]
  },
  {
   "cell_type": "code",
   "execution_count": 38,
   "metadata": {},
   "outputs": [],
   "source": [
    "def simil_matrix(X, simil=\"sokal\"):\n",
    "    s = sokal if simil == \"sokal\" else jaccard\n",
    "    n = X.shape[0]\n",
    "    S = np.zeros((n,n))\n",
    "    for i in range(0, n):\n",
    "        for j in range (0, n):\n",
    "            S[i][j] = s(X[i], X[j])\n",
    "    return S"
   ]
  },
  {
   "cell_type": "code",
   "execution_count": 74,
   "metadata": {},
   "outputs": [
    {
     "data": {
      "text/plain": [
       "array([[1.        , 0.66666667, 0.5       , 0.5       , 0.66666667],\n",
       "       [0.66666667, 1.        , 0.5       , 0.5       , 0.33333333],\n",
       "       [0.5       , 0.5       , 1.        , 1.        , 0.83333333],\n",
       "       [0.5       , 0.5       , 1.        , 1.        , 0.83333333],\n",
       "       [0.66666667, 0.33333333, 0.83333333, 0.83333333, 1.        ]])"
      ]
     },
     "execution_count": 74,
     "metadata": {},
     "output_type": "execute_result"
    }
   ],
   "source": [
    "S_sokal = simil_matrix(X)\n",
    "S_sokal"
   ]
  },
  {
   "cell_type": "code",
   "execution_count": 75,
   "metadata": {},
   "outputs": [
    {
     "data": {
      "text/plain": [
       "array([[1.        , 0.6       , 0.4       , 0.4       , 0.6       ],\n",
       "       [0.6       , 1.        , 0.4       , 0.4       , 0.33333333],\n",
       "       [0.4       , 0.4       , 1.        , 1.        , 0.75      ],\n",
       "       [0.4       , 0.4       , 1.        , 1.        , 0.75      ],\n",
       "       [0.6       , 0.33333333, 0.75      , 0.75      , 1.        ]])"
      ]
     },
     "execution_count": 75,
     "metadata": {},
     "output_type": "execute_result"
    }
   ],
   "source": [
    "S_jaccard = simil_matrix(X, 'jaccard')\n",
    "S_jaccard"
   ]
  },
  {
   "cell_type": "code",
   "execution_count": 106,
   "metadata": {},
   "outputs": [],
   "source": [
    "def distance_matrix(S):\n",
    "    D2 = 2 * np.ones((S.shape[0], S.shape[0]))\n",
    "    D2 = D2 - 2 * S\n",
    "    return D2"
   ]
  },
  {
   "cell_type": "code",
   "execution_count": 107,
   "metadata": {},
   "outputs": [
    {
     "data": {
      "text/plain": [
       "array([[0.        , 0.66666667, 1.        , 1.        , 0.66666667],\n",
       "       [0.66666667, 0.        , 1.        , 1.        , 1.33333333],\n",
       "       [1.        , 1.        , 0.        , 0.        , 0.33333333],\n",
       "       [1.        , 1.        , 0.        , 0.        , 0.33333333],\n",
       "       [0.66666667, 1.33333333, 0.33333333, 0.33333333, 0.        ]])"
      ]
     },
     "execution_count": 107,
     "metadata": {},
     "output_type": "execute_result"
    }
   ],
   "source": [
    "D2 = distance_matrix(S_sokal)\n",
    "D2"
   ]
  },
  {
   "cell_type": "code",
   "execution_count": 108,
   "metadata": {},
   "outputs": [
    {
     "data": {
      "text/plain": [
       "array([[0.        , 0.8       , 1.2       , 1.2       , 0.8       ],\n",
       "       [0.8       , 0.        , 1.2       , 1.2       , 1.33333333],\n",
       "       [1.2       , 1.2       , 0.        , 0.        , 0.5       ],\n",
       "       [1.2       , 1.2       , 0.        , 0.        , 0.5       ],\n",
       "       [0.8       , 1.33333333, 0.5       , 0.5       , 0.        ]])"
      ]
     },
     "execution_count": 108,
     "metadata": {},
     "output_type": "execute_result"
    }
   ],
   "source": [
    "distance_matrix(S_jaccard)"
   ]
  },
  {
   "cell_type": "code",
   "execution_count": 99,
   "metadata": {},
   "outputs": [
    {
     "data": {
      "text/plain": [
       "array([ 4.48,  1.3 ,  0.03,  0.  , -0.  ])"
      ]
     },
     "execution_count": 99,
     "metadata": {},
     "output_type": "execute_result"
    }
   ],
   "source": [
    "D2_stand = StandardScaler().fit_transform(D2)\n",
    "covariance = np.cov(D2_stand)\n",
    "eig_values, eig_vectors  =la.eig(covariance)\n",
    "eig_values.round(2)"
   ]
  },
  {
   "cell_type": "code",
   "execution_count": 94,
   "metadata": {},
   "outputs": [
    {
     "data": {
      "text/plain": [
       "array([[-0.5 , -0.58, -0.47, -0.44, -0.05],\n",
       "       [-0.59,  0.57,  0.36, -0.44, -0.05],\n",
       "       [ 0.39,  0.24, -0.29, -0.35,  0.65],\n",
       "       [ 0.39,  0.24, -0.29, -0.53, -0.76],\n",
       "       [ 0.3 , -0.48,  0.69, -0.44, -0.05]])"
      ]
     },
     "execution_count": 94,
     "metadata": {},
     "output_type": "execute_result"
    }
   ],
   "source": [
    "eig_vectors.round(2)"
   ]
  },
  {
   "cell_type": "code",
   "execution_count": 95,
   "metadata": {},
   "outputs": [
    {
     "data": {
      "text/plain": [
       "(0.7717457629062912, 0.223593598105929, 0.0046606389877797555)"
      ]
     },
     "execution_count": 95,
     "metadata": {},
     "output_type": "execute_result"
    }
   ],
   "source": [
    "eig_values[0]/eig_values.sum(), eig_values[1]/eig_values.sum(), eig_values[2]/eig_values.sum()"
   ]
  },
  {
   "cell_type": "code",
   "execution_count": 100,
   "metadata": {},
   "outputs": [
    {
     "data": {
      "text/plain": [
       "0.9999999999999999"
      ]
     },
     "execution_count": 100,
     "metadata": {},
     "output_type": "execute_result"
    }
   ],
   "source": [
    "eig_values[0]/eig_values.sum() + eig_values[1]/eig_values.sum() + eig_values[2]/eig_values.sum()"
   ]
  },
  {
   "cell_type": "code",
   "execution_count": 102,
   "metadata": {},
   "outputs": [
    {
     "data": {
      "text/html": [
       "<div>\n",
       "<style scoped>\n",
       "    .dataframe tbody tr th:only-of-type {\n",
       "        vertical-align: middle;\n",
       "    }\n",
       "\n",
       "    .dataframe tbody tr th {\n",
       "        vertical-align: top;\n",
       "    }\n",
       "\n",
       "    .dataframe thead th {\n",
       "        text-align: right;\n",
       "    }\n",
       "</style>\n",
       "<table border=\"1\" class=\"dataframe\">\n",
       "  <thead>\n",
       "    <tr style=\"text-align: right;\">\n",
       "      <th></th>\n",
       "      <th>Z1</th>\n",
       "      <th>Z2</th>\n",
       "    </tr>\n",
       "  </thead>\n",
       "  <tbody>\n",
       "    <tr>\n",
       "      <th>0</th>\n",
       "      <td>2.104403</td>\n",
       "      <td>1.318451</td>\n",
       "    </tr>\n",
       "    <tr>\n",
       "      <th>1</th>\n",
       "      <td>2.509368</td>\n",
       "      <td>-1.273840</td>\n",
       "    </tr>\n",
       "    <tr>\n",
       "      <th>2</th>\n",
       "      <td>-1.663734</td>\n",
       "      <td>-0.566450</td>\n",
       "    </tr>\n",
       "    <tr>\n",
       "      <th>3</th>\n",
       "      <td>-1.663734</td>\n",
       "      <td>-0.566450</td>\n",
       "    </tr>\n",
       "    <tr>\n",
       "      <th>4</th>\n",
       "      <td>-1.286304</td>\n",
       "      <td>1.088288</td>\n",
       "    </tr>\n",
       "  </tbody>\n",
       "</table>\n",
       "</div>"
      ],
      "text/plain": [
       "         Z1        Z2\n",
       "0  2.104403  1.318451\n",
       "1  2.509368 -1.273840\n",
       "2 -1.663734 -0.566450\n",
       "3 -1.663734 -0.566450\n",
       "4 -1.286304  1.088288"
      ]
     },
     "execution_count": 102,
     "metadata": {},
     "output_type": "execute_result"
    }
   ],
   "source": [
    "new_df = []\n",
    "for index, row in enumerate(D2_stand):\n",
    "    new_df.append([np.dot(eig_vectors[:,0], row), np.dot(eig_vectors[:,1], row),])\n",
    "new_df = pd.DataFrame(np.array(new_df), columns=\"Z1 Z2\".split())\n",
    "new_df.tail()"
   ]
  },
  {
   "cell_type": "code",
   "execution_count": 105,
   "metadata": {},
   "outputs": [
    {
     "data": {
      "image/png": "[encoded data removed]",
      "text/plain": [
       "<Figure size 432x288 with 1 Axes>"
      ]
     },
     "metadata": {
      "needs_background": "light"
     },
     "output_type": "display_data"
    }
   ],
   "source": [
    "plt.plot(new_df.Z1, new_df.Z2, 'o')\n",
    "plt.show()"
   ]
  },
  {
   "cell_type": "markdown",
   "metadata": {},
   "source": [
    "## Regularización"
   ]
  },
  {
   "cell_type": "code",
   "execution_count": null,
   "metadata": {},
   "outputs": [],
   "source": []
  }
 ],
 "metadata": {
  "interpreter": {
   "hash": "a71a9e4fb054fff428071484f7faa898cb9ecb31a518fe88e3463da9af879578"
  },
  "kernelspec": {
   "display_name": "Python 3.9.7 ('base')",
   "language": "python",
   "name": "python3"
  },
  "language_info": {
   "codemirror_mode": {
    "name": "ipython",
    "version": 3
   },
   "file_extension": ".py",
   "mimetype": "text/x-python",
   "name": "python",
   "nbconvert_exporter": "python",
   "pygments_lexer": "ipython3",
   "version": "3.9.7"
  },
  "orig_nbformat": 4
 },
 "nbformat": 4,
 "nbformat_minor": 2
}
